{
 "cells": [
  {
   "cell_type": "code",
   "execution_count": 1,
   "id": "c45e9ac3",
   "metadata": {},
   "outputs": [],
   "source": [
    "import pandas as pd\n",
    "import re"
   ]
  },
  {
   "cell_type": "code",
   "execution_count": 2,
   "id": "a0584e43",
   "metadata": {},
   "outputs": [],
   "source": [
    "import os\n",
    "import glob\n",
    "import pandas as pd\n",
    "import matplotlib.pyplot as plt\n",
    "import matplotlib.patches as mpatches\n",
    "\n",
    "from os import listdir, walk\n",
    "from os.path import isfile, join\n",
    "from pandas.plotting import parallel_coordinates\n",
    "from tabulate import tabulate, SEPARATING_LINE\n",
    "\n"
   ]
  },
  {
   "cell_type": "markdown",
   "id": "56df7bb6",
   "metadata": {},
   "source": []
  },
  {
   "cell_type": "markdown",
   "id": "f9c273fe",
   "metadata": {},
   "source": [
    "# Generate construction heuristics tables"
   ]
  },
  {
   "cell_type": "code",
   "execution_count": 3,
   "id": "5c7edd7a",
   "metadata": {},
   "outputs": [],
   "source": [
    "df = pd.read_csv('analysis_fixed.csv')"
   ]
  },
  {
   "cell_type": "code",
   "execution_count": 4,
   "id": "12480a4e",
   "metadata": {},
   "outputs": [
    {
     "data": {
      "text/plain": [
       "Index(['Instance_Name', 'Number_Of_Customers', 'Number_Of_Hotels',\n",
       "       'Objective_Value', 'Sum_of_Trips', 'Penalties', 'Hotel_Fees',\n",
       "       'Max_Trip_Length', 'Number_Of_Trips', 'Prize', 'Time', 'Trace'],\n",
       "      dtype='object')"
      ]
     },
     "execution_count": 4,
     "metadata": {},
     "output_type": "execute_result"
    }
   ],
   "source": [
    "df.columns"
   ]
  },
  {
   "cell_type": "code",
   "execution_count": 5,
   "id": "1eacde0c",
   "metadata": {},
   "outputs": [],
   "source": [
    "table_0 = df[['Instance_Name','Objective_Value','Sum_of_Trips','Penalties','Hotel_Fees']]\n",
    "table_1 = df[['Instance_Name','Max_Trip_Length','Number_Of_Trips','Prize','Time']]"
   ]
  },
  {
   "cell_type": "code",
   "execution_count": 6,
   "id": "3e9fd2cb",
   "metadata": {},
   "outputs": [
    {
     "name": "stdout",
     "output_type": "stream",
     "text": [
      "\\begin{tabular}{rlrrrrrrr}\n",
      "\\hline\n",
      "    & Instance\\_Name   &   Objective\\_Value &   Sum\\_of\\_Trips &   Penalties &   Hotel\\_Fees &   Max\\_Trip\\_Length &   Number\\_Of\\_Trips &   Prize \\\\\n",
      "\\hline\n",
      "  0 & test            &              1070 &            970 &           0 &          100 &               600 &                 2 &    2000 \\\\\n",
      "  1 & rc101\\_1         &               235 &            235 &           0 &            0 &               235 &                 1 &    1000 \\\\\n",
      "  2 & pr8\\_1           &            102153 &           2153 &           0 &       100000 &              1774 &                 2 &    3000 \\\\\n",
      "  3 & eil51\\_1         &               413 &            349 &          64 &            0 &               349 &                 1 &     713 \\\\\n",
      "  4 & berlin51\\_1      &            909649 &           9649 &           0 &       900000 &              1146 &                10 &    5100 \\\\\n",
      "  5 & berlin52\\_2      &              7944 &           6441 &         441 &         1062 &              1313 &                 6 &    1335 \\\\\n",
      "  6 & berlin52\\_3      &              6343 &           4812 &         887 &          644 &              1148 &                 5 &     889 \\\\\n",
      "  7 & rc101\\_2         &            701822 &           1822 &           0 &       700000 &               234 &                 8 &   10000 \\\\\n",
      "  8 & rc101\\_3         &              1108 &            677 &         209 &          222 &               240 &                 3 &    2693 \\\\\n",
      "  9 & pr8\\_2           &            307219 &           7219 &           0 &       300000 &              1965 &                 4 &   14400 \\\\\n",
      " 10 & gil250\\_1        &            101719 &           1719 &           0 &       100000 &              1192 &                 2 &    9083 \\\\\n",
      " 11 & gil262\\_1        &              5009 &           1873 &        2130 &         1006 &               320 &                 6 &    9976 \\\\\n",
      " 12 & a280\\_1          &            703555 &           3555 &           0 &       700000 &               496 &                 8 &   27900 \\\\\n",
      "\\hline\n",
      "\\end{tabular}\n"
     ]
    }
   ],
   "source": [
    "print(tabulate(table_0, headers=table_0.columns, tablefmt='latex'))"
   ]
  },
  {
   "cell_type": "code",
   "execution_count": 7,
   "id": "add1c020",
   "metadata": {},
   "outputs": [
    {
     "name": "stdout",
     "output_type": "stream",
     "text": [
      "\\begin{tabular}{rlr}\n",
      "\\hline\n",
      "    & Instance\\_Name   &        Time \\\\\n",
      "\\hline\n",
      "  0 & test            & 0.000480175 \\\\\n",
      "  1 & rc101\\_1         & 0.00214243  \\\\\n",
      "  2 & pr8\\_1           & 0.0620084   \\\\\n",
      "  3 & eil51\\_1         & 0.235534    \\\\\n",
      "  4 & berlin51\\_1      & 0.0588455   \\\\\n",
      "  5 & berlin52\\_2      & 0.0927205   \\\\\n",
      "  6 & berlin52\\_3      & 0.0709636   \\\\\n",
      "  7 & rc101\\_2         & 0.128226    \\\\\n",
      "  8 & rc101\\_3         & 1.47763     \\\\\n",
      "  9 & pr8\\_2           & 1.63952     \\\\\n",
      " 10 & gil250\\_1        & 4.65994     \\\\\n",
      " 11 & gil262\\_1        & 6.2078      \\\\\n",
      " 12 & a280\\_1          & 4.66654     \\\\\n",
      "\\hline\n",
      "\\end{tabular}\n"
     ]
    }
   ],
   "source": [
    "print(tabulate(table_1, headers = table_1.columns, tablefmt='latex'))"
   ]
  },
  {
   "cell_type": "code",
   "execution_count": null,
   "id": "068b9589",
   "metadata": {},
   "outputs": [],
   "source": []
  }
 ],
 "metadata": {
  "kernelspec": {
   "display_name": "Python 3",
   "language": "python",
   "name": "python3"
  },
  "language_info": {
   "codemirror_mode": {
    "name": "ipython",
    "version": 3
   },
   "file_extension": ".py",
   "mimetype": "text/x-python",
   "name": "python",
   "nbconvert_exporter": "python",
   "pygments_lexer": "ipython3",
   "version": "3.8.8"
  }
 },
 "nbformat": 4,
 "nbformat_minor": 5
}
