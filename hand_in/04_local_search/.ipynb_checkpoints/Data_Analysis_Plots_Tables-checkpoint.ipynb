{
 "cells": [
  {
   "cell_type": "code",
   "execution_count": 1,
   "id": "c45e9ac3",
   "metadata": {},
   "outputs": [],
   "source": [
    "import pandas as pd\n",
    "import numpy as np\n",
    "import re\n",
    "import random"
   ]
  },
  {
   "cell_type": "code",
   "execution_count": 2,
   "id": "a0584e43",
   "metadata": {},
   "outputs": [],
   "source": [
    "import os\n",
    "import glob\n",
    "import pandas as pd\n",
    "import matplotlib.pyplot as plt\n",
    "import matplotlib.patches as mpatches\n",
    "\n",
    "from os import listdir, walk\n",
    "from os.path import isfile, join\n",
    "from pandas.plotting import parallel_coordinates\n",
    "from tabulate import tabulate, SEPARATING_LINE\n",
    "\n"
   ]
  },
  {
   "cell_type": "markdown",
   "id": "56df7bb6",
   "metadata": {},
   "source": []
  },
  {
   "cell_type": "markdown",
   "id": "f9c273fe",
   "metadata": {},
   "source": [
    "# Generate tables and plots"
   ]
  },
  {
   "cell_type": "code",
   "execution_count": 5,
   "id": "5c7edd7a",
   "metadata": {},
   "outputs": [],
   "source": [
    "df = pd.read_csv('analysis_fixed.csv')"
   ]
  },
  {
   "cell_type": "code",
   "execution_count": 6,
   "id": "12480a4e",
   "metadata": {},
   "outputs": [
    {
     "data": {
      "text/plain": [
       "Index(['Instance_Name', 'Number_Of_Customers', 'Number_Of_Hotels',\n",
       "       'Objective_Value', 'Sum_of_Trips', 'Penalties', 'Hotel_Fees',\n",
       "       'Max_Trip_Length', 'Number_Of_Trips', 'Prize', 'Time', 'Trace',\n",
       "       'Neighborhood', 'Step_Function'],\n",
       "      dtype='object')"
      ]
     },
     "execution_count": 6,
     "metadata": {},
     "output_type": "execute_result"
    }
   ],
   "source": [
    "df.columns"
   ]
  },
  {
   "cell_type": "code",
   "execution_count": 7,
   "id": "8b810ee8",
   "metadata": {},
   "outputs": [],
   "source": [
    "instances = list(df['Instance_Name'].unique())"
   ]
  },
  {
   "cell_type": "code",
   "execution_count": null,
   "id": "77c6e6a3",
   "metadata": {},
   "outputs": [],
   "source": [
    "bests = []\n",
    "neighborhoods = []\n",
    "step_functions = []\n",
    "times = []\n",
    "\n",
    "\n",
    "for instance in instances:\n",
    "    val = df['Instance_Name'] == instance\n",
    "    df_instance = df[val]\n",
    "    \n",
    "    \n",
    "    v = df_instance['Objective_Value']\n",
    "    t = df_instance['Time']\n",
    "    \n",
    "    best_rows_bools = df_instance['Objective_Value'] == min(v)\n",
    "    \n",
    "    best_rows = df_instance[best_rows_bools]\n",
    "    n_rows, n_cols = best_rows.shape\n",
    "    \n",
    "    index = 0\n",
    "    if n_rows > 1:\n",
    "        index = random.randint(0,n_rows-1)\n",
    "    \n",
    "    best_row = best_rows.iloc[index,:]\n",
    "    \n",
    "    bests.append(best_row['Objective_Value'])\n",
    "    best_alphas.append(best_row['alpha'])\n",
    "    best_betas.append(best_row['beta'])\n",
    "    best_gammas.append(best_row['gamma'])\n",
    "    best_deltas.append(best_row['delta'])    \n",
    "    \n",
    "    means.append(np.mean(v))\n",
    "    sds.append(np.std(v))\n",
    "    \n",
    "    avg_times.append(np.mean(t))\n",
    "    sds_times.append(np.std(t))\n",
    "    "
   ]
  },
  {
   "cell_type": "code",
   "execution_count": 31,
   "id": "3050c4f0",
   "metadata": {},
   "outputs": [],
   "source": [
    "with_delta = df['Delta-Evaluation'] == True\n",
    "without_delta = df['Delta-Evaluation'] == False"
   ]
  },
  {
   "cell_type": "code",
   "execution_count": 49,
   "id": "f706d3f3",
   "metadata": {},
   "outputs": [],
   "source": [
    "table_0 = pd.DataFrame()"
   ]
  },
  {
   "cell_type": "code",
   "execution_count": 50,
   "id": "a6ba7d57",
   "metadata": {},
   "outputs": [],
   "source": [
    "table_0['Instance_Name'] = list(df[with_delta]['Instance_Name'])\n",
    "table_0['Neighborhood'] = list(df[with_delta]['Neighborhood'])\n",
    "table_0['Step_Function'] = list(df[with_delta]['Step_Function'])\n",
    "table_0['Delta-Evaluation-Time'] = list(df[with_delta]['Time'])\n",
    "table_0['Normal-Computation-Time'] = list(df[without_delta]['Time'])\n"
   ]
  },
  {
   "cell_type": "code",
   "execution_count": 51,
   "id": "525ff468",
   "metadata": {},
   "outputs": [
    {
     "data": {
      "text/html": [
       "<div>\n",
       "<style scoped>\n",
       "    .dataframe tbody tr th:only-of-type {\n",
       "        vertical-align: middle;\n",
       "    }\n",
       "\n",
       "    .dataframe tbody tr th {\n",
       "        vertical-align: top;\n",
       "    }\n",
       "\n",
       "    .dataframe thead th {\n",
       "        text-align: right;\n",
       "    }\n",
       "</style>\n",
       "<table border=\"1\" class=\"dataframe\">\n",
       "  <thead>\n",
       "    <tr style=\"text-align: right;\">\n",
       "      <th></th>\n",
       "      <th>Instance_Name</th>\n",
       "      <th>Neighborhood</th>\n",
       "      <th>Step_Function</th>\n",
       "      <th>Delta-Evaluation-Time</th>\n",
       "      <th>Normal-Computation-Time</th>\n",
       "    </tr>\n",
       "  </thead>\n",
       "  <tbody>\n",
       "    <tr>\n",
       "      <th>0</th>\n",
       "      <td>test</td>\n",
       "      <td>trip_2_opt</td>\n",
       "      <td>Step_Function_Type.FIRST</td>\n",
       "      <td>0.000025</td>\n",
       "      <td>0.000048</td>\n",
       "    </tr>\n",
       "    <tr>\n",
       "      <th>1</th>\n",
       "      <td>rc101_1</td>\n",
       "      <td>trip_2_opt</td>\n",
       "      <td>Step_Function_Type.FIRST</td>\n",
       "      <td>0.000293</td>\n",
       "      <td>0.001413</td>\n",
       "    </tr>\n",
       "    <tr>\n",
       "      <th>2</th>\n",
       "      <td>pr8_1</td>\n",
       "      <td>trip_2_opt</td>\n",
       "      <td>Step_Function_Type.FIRST</td>\n",
       "      <td>0.015119</td>\n",
       "      <td>0.129947</td>\n",
       "    </tr>\n",
       "    <tr>\n",
       "      <th>3</th>\n",
       "      <td>eil51_1</td>\n",
       "      <td>trip_2_opt</td>\n",
       "      <td>Step_Function_Type.FIRST</td>\n",
       "      <td>0.012440</td>\n",
       "      <td>0.116382</td>\n",
       "    </tr>\n",
       "    <tr>\n",
       "      <th>4</th>\n",
       "      <td>berlin51_1</td>\n",
       "      <td>trip_2_opt</td>\n",
       "      <td>Step_Function_Type.FIRST</td>\n",
       "      <td>0.010642</td>\n",
       "      <td>0.133709</td>\n",
       "    </tr>\n",
       "    <tr>\n",
       "      <th>5</th>\n",
       "      <td>berlin52_2</td>\n",
       "      <td>trip_2_opt</td>\n",
       "      <td>Step_Function_Type.FIRST</td>\n",
       "      <td>0.007964</td>\n",
       "      <td>0.091974</td>\n",
       "    </tr>\n",
       "    <tr>\n",
       "      <th>6</th>\n",
       "      <td>berlin52_3</td>\n",
       "      <td>trip_2_opt</td>\n",
       "      <td>Step_Function_Type.FIRST</td>\n",
       "      <td>0.005328</td>\n",
       "      <td>0.056660</td>\n",
       "    </tr>\n",
       "    <tr>\n",
       "      <th>7</th>\n",
       "      <td>rc101_2</td>\n",
       "      <td>trip_2_opt</td>\n",
       "      <td>Step_Function_Type.FIRST</td>\n",
       "      <td>0.022712</td>\n",
       "      <td>0.504649</td>\n",
       "    </tr>\n",
       "    <tr>\n",
       "      <th>8</th>\n",
       "      <td>rc101_3</td>\n",
       "      <td>trip_2_opt</td>\n",
       "      <td>Step_Function_Type.FIRST</td>\n",
       "      <td>0.063242</td>\n",
       "      <td>1.118307</td>\n",
       "    </tr>\n",
       "    <tr>\n",
       "      <th>9</th>\n",
       "      <td>pr8_2</td>\n",
       "      <td>trip_2_opt</td>\n",
       "      <td>Step_Function_Type.FIRST</td>\n",
       "      <td>0.314552</td>\n",
       "      <td>9.895924</td>\n",
       "    </tr>\n",
       "    <tr>\n",
       "      <th>10</th>\n",
       "      <td>gil250_1</td>\n",
       "      <td>trip_2_opt</td>\n",
       "      <td>Step_Function_Type.FIRST</td>\n",
       "      <td>1.062596</td>\n",
       "      <td>35.536921</td>\n",
       "    </tr>\n",
       "    <tr>\n",
       "      <th>11</th>\n",
       "      <td>gil262_1</td>\n",
       "      <td>trip_2_opt</td>\n",
       "      <td>Step_Function_Type.FIRST</td>\n",
       "      <td>0.203425</td>\n",
       "      <td>9.089184</td>\n",
       "    </tr>\n",
       "    <tr>\n",
       "      <th>12</th>\n",
       "      <td>a280_1</td>\n",
       "      <td>trip_2_opt</td>\n",
       "      <td>Step_Function_Type.FIRST</td>\n",
       "      <td>1.007358</td>\n",
       "      <td>60.000000</td>\n",
       "    </tr>\n",
       "  </tbody>\n",
       "</table>\n",
       "</div>"
      ],
      "text/plain": [
       "   Instance_Name Neighborhood             Step_Function  \\\n",
       "0           test   trip_2_opt  Step_Function_Type.FIRST   \n",
       "1        rc101_1   trip_2_opt  Step_Function_Type.FIRST   \n",
       "2          pr8_1   trip_2_opt  Step_Function_Type.FIRST   \n",
       "3        eil51_1   trip_2_opt  Step_Function_Type.FIRST   \n",
       "4     berlin51_1   trip_2_opt  Step_Function_Type.FIRST   \n",
       "5     berlin52_2   trip_2_opt  Step_Function_Type.FIRST   \n",
       "6     berlin52_3   trip_2_opt  Step_Function_Type.FIRST   \n",
       "7        rc101_2   trip_2_opt  Step_Function_Type.FIRST   \n",
       "8        rc101_3   trip_2_opt  Step_Function_Type.FIRST   \n",
       "9          pr8_2   trip_2_opt  Step_Function_Type.FIRST   \n",
       "10      gil250_1   trip_2_opt  Step_Function_Type.FIRST   \n",
       "11      gil262_1   trip_2_opt  Step_Function_Type.FIRST   \n",
       "12        a280_1   trip_2_opt  Step_Function_Type.FIRST   \n",
       "\n",
       "    Delta-Evaluation-Time  Normal-Computation-Time  \n",
       "0                0.000025                 0.000048  \n",
       "1                0.000293                 0.001413  \n",
       "2                0.015119                 0.129947  \n",
       "3                0.012440                 0.116382  \n",
       "4                0.010642                 0.133709  \n",
       "5                0.007964                 0.091974  \n",
       "6                0.005328                 0.056660  \n",
       "7                0.022712                 0.504649  \n",
       "8                0.063242                 1.118307  \n",
       "9                0.314552                 9.895924  \n",
       "10               1.062596                35.536921  \n",
       "11               0.203425                 9.089184  \n",
       "12               1.007358                60.000000  "
      ]
     },
     "execution_count": 51,
     "metadata": {},
     "output_type": "execute_result"
    }
   ],
   "source": [
    "table_0"
   ]
  },
  {
   "cell_type": "code",
   "execution_count": 52,
   "id": "3e9fd2cb",
   "metadata": {},
   "outputs": [
    {
     "name": "stdout",
     "output_type": "stream",
     "text": [
      "\\begin{tabular}{rlllrr}\n",
      "\\hline\n",
      "    & Instance\\_Name   & Neighborhood   & Step\\_Function            &   Delta-Evaluation-Time &   Normal-Computation-Time \\\\\n",
      "\\hline\n",
      "  0 & test            & trip\\_2\\_opt     & Step\\_Function\\_Type.FIRST &             2.5034e-05  &               4.81606e-05 \\\\\n",
      "  1 & rc101\\_1         & trip\\_2\\_opt     & Step\\_Function\\_Type.FIRST &             0.000292778 &               0.00141311  \\\\\n",
      "  2 & pr8\\_1           & trip\\_2\\_opt     & Step\\_Function\\_Type.FIRST &             0.0151193   &               0.129947    \\\\\n",
      "  3 & eil51\\_1         & trip\\_2\\_opt     & Step\\_Function\\_Type.FIRST &             0.01244     &               0.116382    \\\\\n",
      "  4 & berlin51\\_1      & trip\\_2\\_opt     & Step\\_Function\\_Type.FIRST &             0.0106423   &               0.133709    \\\\\n",
      "  5 & berlin52\\_2      & trip\\_2\\_opt     & Step\\_Function\\_Type.FIRST &             0.00796437  &               0.0919745   \\\\\n",
      "  6 & berlin52\\_3      & trip\\_2\\_opt     & Step\\_Function\\_Type.FIRST &             0.00532794  &               0.0566597   \\\\\n",
      "  7 & rc101\\_2         & trip\\_2\\_opt     & Step\\_Function\\_Type.FIRST &             0.022712    &               0.504649    \\\\\n",
      "  8 & rc101\\_3         & trip\\_2\\_opt     & Step\\_Function\\_Type.FIRST &             0.0632417   &               1.11831     \\\\\n",
      "  9 & pr8\\_2           & trip\\_2\\_opt     & Step\\_Function\\_Type.FIRST &             0.314552    &               9.89592     \\\\\n",
      " 10 & gil250\\_1        & trip\\_2\\_opt     & Step\\_Function\\_Type.FIRST &             1.0626      &              35.5369      \\\\\n",
      " 11 & gil262\\_1        & trip\\_2\\_opt     & Step\\_Function\\_Type.FIRST &             0.203425    &               9.08918     \\\\\n",
      " 12 & a280\\_1          & trip\\_2\\_opt     & Step\\_Function\\_Type.FIRST &             1.00736     &              60           \\\\\n",
      "\\hline\n",
      "\\end{tabular}\n"
     ]
    }
   ],
   "source": [
    "print(tabulate(table_0, headers=table_0.columns, tablefmt='latex'))"
   ]
  },
  {
   "cell_type": "code",
   "execution_count": 53,
   "id": "c65e28f8",
   "metadata": {},
   "outputs": [],
   "source": [
    "times_delta = (df[with_delta])['Time']\n",
    "times_no_delta = (df[without_delta])['Time']"
   ]
  },
  {
   "cell_type": "code",
   "execution_count": 54,
   "id": "c9c8b112",
   "metadata": {},
   "outputs": [],
   "source": [
    "instances = (df[with_delta])['Instance_Name']"
   ]
  },
  {
   "cell_type": "code",
   "execution_count": 56,
   "id": "7d9c2724",
   "metadata": {},
   "outputs": [
    {
     "data": {
      "image/png": "[encoded data removed]",
      "text/plain": [
       "<Figure size 1440x720 with 1 Axes>"
      ]
     },
     "metadata": {
      "needs_background": "light"
     },
     "output_type": "display_data"
    }
   ],
   "source": [
    "fig, ax = plt.subplots(figsize=(20,10))\n",
    "\n",
    "ax.plot(instances, times_delta, '-o', color='#ff1111')\n",
    "ax.plot(instances, times_no_delta, '-o', color='#0000ff')\n",
    "\n",
    "ax.set_xlabel(\"Instances\")\n",
    "ax.set_ylabel(\"Time (s)\")\n",
    "patches = [mpatches.Patch(color='#ff1111', label='2-Trip-Opt-Delta-Evaluation'),\n",
    "           mpatches.Patch(color='#0000ff', label='2-Trip-Opt-Normal-Computation')]\n",
    "           \n",
    "\n",
    "ax.legend(handles=patches, loc='upper left')\n",
    "plt.xticks(list(range(len(instances) + 1)))\n",
    "plt.savefig('trip_2_opt_delta_no_delta.png', dpi=300)\n",
    "plt.show()"
   ]
  },
  {
   "cell_type": "code",
   "execution_count": null,
   "id": "34553a24",
   "metadata": {},
   "outputs": [],
   "source": []
  }
 ],
 "metadata": {
  "kernelspec": {
   "display_name": "Python 3",
   "language": "python",
   "name": "python3"
  },
  "language_info": {
   "codemirror_mode": {
    "name": "ipython",
    "version": 3
   },
   "file_extension": ".py",
   "mimetype": "text/x-python",
   "name": "python",
   "nbconvert_exporter": "python",
   "pygments_lexer": "ipython3",
   "version": "3.8.8"
  }
 },
 "nbformat": 4,
 "nbformat_minor": 5
}
