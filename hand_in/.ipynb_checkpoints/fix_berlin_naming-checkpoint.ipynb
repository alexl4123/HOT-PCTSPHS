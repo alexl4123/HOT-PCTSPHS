{
 "cells": [
  {
   "cell_type": "markdown",
   "id": "1163731a",
   "metadata": {},
   "source": [
    "# The first part of the code ''corrects'' the analysis.csv file (for the [,,,] errors)"
   ]
  },
  {
   "cell_type": "code",
   "execution_count": 2,
   "id": "45f8f2ae",
   "metadata": {},
   "outputs": [],
   "source": [
    "import os\n",
    "from glob import glob"
   ]
  },
  {
   "cell_type": "code",
   "execution_count": 8,
   "id": "875e7390",
   "metadata": {},
   "outputs": [
    {
     "data": {
      "text/plain": [
       "['./02_random_construction/analysis_fixed.csv',\n",
       " './02_random_construction/Data_Analysis_Plots_Tables.ipynb',\n",
       " './02_random_construction/evaluations_of_solutions',\n",
       " './02_random_construction/fix_analysis.ipynb',\n",
       " './02_random_construction/solutions',\n",
       " './02_random_construction/README.txt',\n",
       " './05_02_vnd_step_best/analysis_fixed.csv',\n",
       " './05_02_vnd_step_best/Data_Analysis_Plots_Tables.ipynb',\n",
       " './05_02_vnd_step_best/evaluations_of_solutions',\n",
       " './05_02_vnd_step_best/fix_analysis.ipynb',\n",
       " './05_02_vnd_step_best/vnd_rc101_3_trace.png',\n",
       " './05_02_vnd_step_best/solutions',\n",
       " './01_deterministic_construction/analysis_fixed.csv',\n",
       " './01_deterministic_construction/Data_Analysis_Plots_Tables.ipynb',\n",
       " './01_deterministic_construction/evaluations_of_solutions',\n",
       " './01_deterministic_construction/fix_analysis.ipynb',\n",
       " './01_deterministic_construction/solutions',\n",
       " './07_gvns/analysis_fixed.csv',\n",
       " './07_gvns/Data_Analysis_Plots_Tables.ipynb',\n",
       " './07_gvns/evaluations_of_solutions',\n",
       " './07_gvns/fix_analysis.ipynb',\n",
       " './07_gvns/solutions',\n",
       " './07_gvns/README.txt',\n",
       " './00_delta_construction/analysis_fixed.csv',\n",
       " './00_delta_construction/construction_delta_no_delta.png',\n",
       " './00_delta_construction/Data_Analysis_Plots_Tables.ipynb',\n",
       " './00_delta_construction/Untitled.ipynb',\n",
       " './00_delta_construction/ag_time_instance_plot.png',\n",
       " './00_delta_construction/fix_analysis.ipynb',\n",
       " './00_delta_construction/analysis (copy).csv',\n",
       " './00_delta_construction/analysis.csv',\n",
       " './04_local_search/analysis_fixed.csv',\n",
       " './04_local_search/Data_Analysis_Plots_Tables.ipynb',\n",
       " './04_local_search/evaluations_of_solutions',\n",
       " './04_local_search/fix_analysis.ipynb',\n",
       " './04_local_search/vnd_rc101_3_trace.png',\n",
       " './04_local_search/solutions',\n",
       " './04_local_search/README.txt',\n",
       " './05_vnd/analysis_fixed.csv',\n",
       " './05_vnd/Data_Analysis_Plots_Tables.ipynb',\n",
       " './05_vnd/evaluations_of_solutions',\n",
       " './05_vnd/fix_analysis.ipynb',\n",
       " './05_vnd/vnd_rc101_3_trace.png',\n",
       " './05_vnd/solutions',\n",
       " './05_vnd/README.txt',\n",
       " './03_delta_trip_2_opt/analysis_fixed.csv',\n",
       " './03_delta_trip_2_opt/trip_2_opt_delta_no_delta.png',\n",
       " './03_delta_trip_2_opt/Data_Analysis_Plots_Tables.ipynb',\n",
       " './03_delta_trip_2_opt/fix_analysis.ipynb',\n",
       " './03_delta_trip_2_opt/analysis.csv',\n",
       " './03_delta_trip_2_opt/README.txt',\n",
       " './06_grasp/analysis_fixed.csv',\n",
       " './06_grasp/Data_Analysis_Plots_Tables.ipynb',\n",
       " './06_grasp/evaluations_of_solutions',\n",
       " './06_grasp/fix_analysis.ipynb',\n",
       " './06_grasp/solutions',\n",
       " './06_grasp/README.txt']"
      ]
     },
     "execution_count": 8,
     "metadata": {},
     "output_type": "execute_result"
    }
   ],
   "source": [
    "glob(\"./*/*\", recursive=True)"
   ]
  },
  {
   "cell_type": "code",
   "execution_count": 2,
   "id": "eb6a5a74",
   "metadata": {},
   "outputs": [],
   "source": [
    "path = ''\n",
    "name_0 = 'analysis'\n",
    "name_1 = '_fixed'\n",
    "name_2 = '.csv'\n",
    "\n",
    "f = open(path + name_0 + name_2, 'r')\n",
    "lines = f.readlines()\n",
    "output = []\n",
    "for line in lines:\n",
    "    \n",
    "    if \"[\" not in line:\n",
    "        output.append(line)\n",
    "    else:\n",
    "        \n",
    "        new_line = \"\"\n",
    "        \n",
    "        mode = 0\n",
    "        for c in line:\n",
    "            if c != \"[\" and c != \"]\" and mode == 0:\n",
    "                new_line += c\n",
    "            elif c == \"[\" and mode == 0:\n",
    "                new_line += c\n",
    "                mode = 1\n",
    "            elif c == \"]\" and mode == 1:\n",
    "                new_line += c\n",
    "                mode = 0\n",
    "            elif c == \",\" and mode == 1:\n",
    "                new_line += \";\"\n",
    "            else:\n",
    "                new_line += c\n",
    "        \n",
    "        output.append(new_line)\n",
    "    \n",
    "f = open(name_0 + name_1 + name_2, 'w')\n",
    "for line in output:\n",
    "    f.write(line + \"\\n\")\n",
    "        \n",
    "f.close()\n",
    "\n",
    "print(\"Completed_successfully\")\n",
    "        \n",
    "    "
   ]
  },
  {
   "cell_type": "code",
   "execution_count": null,
   "id": "4f5e6bf3",
   "metadata": {},
   "outputs": [],
   "source": []
  }
 ],
 "metadata": {
  "kernelspec": {
   "display_name": "Python 3",
   "language": "python",
   "name": "python3"
  },
  "language_info": {
   "codemirror_mode": {
    "name": "ipython",
    "version": 3
   },
   "file_extension": ".py",
   "mimetype": "text/x-python",
   "name": "python",
   "nbconvert_exporter": "python",
   "pygments_lexer": "ipython3",
   "version": "3.8.8"
  }
 },
 "nbformat": 4,
 "nbformat_minor": 5
}
