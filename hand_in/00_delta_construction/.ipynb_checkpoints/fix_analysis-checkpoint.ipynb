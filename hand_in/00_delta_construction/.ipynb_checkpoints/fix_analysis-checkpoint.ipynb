{
 "cells": [
  {
   "cell_type": "markdown",
   "id": "1163731a",
   "metadata": {},
   "source": [
    "# The first part of the code ''corrects'' the analysis.csv file (for the [,,,] errors)"
   ]
  },
  {
   "cell_type": "code",
   "execution_count": 2,
   "id": "eb6a5a74",
   "metadata": {},
   "outputs": [],
   "source": [
    "path = ''\n",
    "name_0 = 'analysis'\n",
    "name_1 = '_fixed'\n",
    "name_2 = '.csv'\n",
    "\n",
    "f = open(path + name_0 + name_2, 'r')\n",
    "lines = f.readlines()\n",
    "output = []\n",
    "for line in lines:\n",
    "    \n",
    "    if \"[\" not in line:\n",
    "        output.append(line)\n",
    "    else:\n",
    "        \n",
    "        new_line = \"\"\n",
    "        \n",
    "        mode = 0\n",
    "        for c in line:\n",
    "            if c != \"[\" and c != \"]\" and mode == 0:\n",
    "                new_line += c\n",
    "            elif c == \"[\" and mode == 0:\n",
    "                new_line += c\n",
    "                mode = 1\n",
    "            elif c == \"]\" and mode == 1:\n",
    "                new_line += c\n",
    "                mode = 0\n",
    "            elif c == \",\" and mode == 1:\n",
    "                new_line += \";\"\n",
    "            else:\n",
    "                new_line += c\n",
    "        \n",
    "        output.append(new_line)\n",
    "    \n",
    "f = open(name_0 + name_1 + name_2, 'w')\n",
    "for line in output:\n",
    "    f.write(line + \"\\n\")\n",
    "        \n",
    "f.close()\n",
    "\n",
    "print(\"Completed_successfully\")\n",
    "        \n",
    "    "
   ]
  },
  {
   "cell_type": "code",
   "execution_count": null,
   "id": "4f5e6bf3",
   "metadata": {},
   "outputs": [],
   "source": []
  }
 ],
 "metadata": {
  "kernelspec": {
   "display_name": "Python 3",
   "language": "python",
   "name": "python3"
  },
  "language_info": {
   "codemirror_mode": {
    "name": "ipython",
    "version": 3
   },
   "file_extension": ".py",
   "mimetype": "text/x-python",
   "name": "python",
   "nbconvert_exporter": "python",
   "pygments_lexer": "ipython3",
   "version": "3.8.8"
  }
 },
 "nbformat": 4,
 "nbformat_minor": 5
}
