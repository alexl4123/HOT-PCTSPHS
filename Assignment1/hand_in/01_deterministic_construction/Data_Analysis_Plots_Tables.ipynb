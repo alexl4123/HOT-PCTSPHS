{
 "cells": [
  {
   "cell_type": "code",
   "execution_count": 1,
   "id": "c45e9ac3",
   "metadata": {},
   "outputs": [],
   "source": [
    "import pandas as pd\n",
    "import re"
   ]
  },
  {
   "cell_type": "code",
   "execution_count": 5,
   "id": "a0584e43",
   "metadata": {},
   "outputs": [],
   "source": [
    "import os\n",
    "import glob\n",
    "import pandas as pd\n",
    "import matplotlib.pyplot as plt\n",
    "import matplotlib.patches as mpatches\n",
    "\n",
    "from os import listdir, walk\n",
    "from os.path import isfile, join\n",
    "from pandas.plotting import parallel_coordinates\n",
    "from tabulate import tabulate, SEPARATING_LINE\n",
    "\n"
   ]
  },
  {
   "cell_type": "markdown",
   "id": "56df7bb6",
   "metadata": {},
   "source": []
  },
  {
   "cell_type": "markdown",
   "id": "f9c273fe",
   "metadata": {},
   "source": [
    "# Generate construction heuristics tables"
   ]
  },
  {
   "cell_type": "code",
   "execution_count": 3,
   "id": "5c7edd7a",
   "metadata": {},
   "outputs": [],
   "source": [
    "df = pd.read_csv('analysis_fixed.csv')"
   ]
  },
  {
   "cell_type": "code",
   "execution_count": 23,
   "id": "12480a4e",
   "metadata": {},
   "outputs": [
    {
     "data": {
      "text/plain": [
       "Index(['Instance_Name', 'Number_Of_Customers', 'Number_Of_Hotels',\n",
       "       'Objective_Value', 'Sum_of_Trips', 'Penalties', 'Hotel_Fees',\n",
       "       'Max_Trip_Length', 'Number_Of_Trips', 'Prize', 'Time', 'Trace',\n",
       "       'Trip_Lengths', 'Percentate-of-collected-prizes',\n",
       "       'uses-delta-evaluation', 'procedure-type', 'alpha', 'beta', 'gamma',\n",
       "       'delta'],\n",
       "      dtype='object')"
      ]
     },
     "execution_count": 23,
     "metadata": {},
     "output_type": "execute_result"
    }
   ],
   "source": [
    "df.columns"
   ]
  },
  {
   "cell_type": "code",
   "execution_count": 14,
   "id": "1eacde0c",
   "metadata": {},
   "outputs": [],
   "source": [
    "table_0 = df[['Instance_Name','Objective_Value','Sum_of_Trips','Penalties','Hotel_Fees','Max_Trip_Length','Number_Of_Trips','Prize']]\n",
    "table_1 = df[['Instance_Name','Time','Percentate-of-collected-prizes','procedure-type','alpha','beta','gamma','delta']]"
   ]
  },
  {
   "cell_type": "code",
   "execution_count": 25,
   "id": "3e9fd2cb",
   "metadata": {},
   "outputs": [
    {
     "name": "stdout",
     "output_type": "stream",
     "text": [
      "\\begin{tabular}{rlrrrrrrr}\n",
      "\\hline\n",
      "    & Instance\\_Name   &   Objective\\_Value &   Sum\\_of\\_Trips &   Penalties &   Hotel\\_Fees &   Max\\_Trip\\_Length &   Number\\_Of\\_Trips &   Prize \\\\\n",
      "\\hline\n",
      "  0 & test            &              1070 &            970 &           0 &          100 &               600 &                 2 &    2000 \\\\\n",
      "  1 & rc101\\_1         &               235 &            235 &           0 &            0 &               235 &                 1 &    1000 \\\\\n",
      "  2 & pr8\\_1           &            102304 &           2304 &           0 &       100000 &              1925 &                 2 &    3000 \\\\\n",
      "  3 & eil51\\_1         &               515 &            336 &         179 &            0 &               336 &                 1 &     598 \\\\\n",
      "  4 & berlin51\\_1      &            910253 &          10253 &           0 &       900000 &              1146 &                10 &    5100 \\\\\n",
      "  5 & berlin52\\_2      &              8567 &           7145 &         360 &         1062 &              1318 &                 6 &    1416 \\\\\n",
      "  6 & berlin52\\_3      &              6704 &           5181 &         879 &          644 &              1148 &                 5 &     897 \\\\\n",
      "  7 & rc101\\_2         &            701843 &           1843 &           0 &       700000 &               235 &                 8 &   10000 \\\\\n",
      "  8 & rc101\\_3         &              1547 &            633 &         692 &          222 &               227 &                 3 &    2210 \\\\\n",
      "  9 & pr8\\_2           &            307818 &           7818 &           0 &       300000 &              1999 &                 4 &   14400 \\\\\n",
      " 10 & gil250\\_1        &            101950 &           1950 &           0 &       100000 &              1294 &                 2 &    9104 \\\\\n",
      " 11 & gil262\\_1        &              5814 &           1853 &        2955 &         1006 &               319 &                 6 &    9151 \\\\\n",
      " 12 & a280\\_1          &            703965 &           3965 &           0 &       700000 &               515 &                 8 &   27900 \\\\\n",
      "\\hline\n",
      "\\end{tabular}\n"
     ]
    }
   ],
   "source": [
    "print(tabulate(table_0, headers=table_0.columns, tablefmt='latex'))"
   ]
  },
  {
   "cell_type": "code",
   "execution_count": 27,
   "id": "add1c020",
   "metadata": {},
   "outputs": [
    {
     "name": "stdout",
     "output_type": "stream",
     "text": [
      "\\begin{tabular}{rlrrlrrrr}\n",
      "\\hline\n",
      "    & Instance\\_Name   &        Time &   Percentate-of-collected-prizes & procedure-type                   &   alpha &   beta &   gamma &   delta \\\\\n",
      "\\hline\n",
      "  0 & test            &   0.0017345 &                         1        & backtracking                     &       1 &   0.2  &    0.2  &     0.2 \\\\\n",
      "  1 & rc101\\_1         &   0.0307431 &                         1        & insertion-heuristic-sum-of-trips &       1 &   0    &    0    &     0   \\\\\n",
      "  2 & pr8\\_1           &   0.426633  &                         1        & pure-greedy                      &       1 &   0    &    0    &     0   \\\\\n",
      "  3 & eil51\\_1         &   1.16948   &                         0.769627 & pure-greedy                      &       2 &  -0.25 &    0.05 &     0.5 \\\\\n",
      "  4 & berlin51\\_1      &   4.58605   &                         1        & pure-greedy                      &       1 &   0    &    0    &     0   \\\\\n",
      "  5 & berlin52\\_2      &   3.28675   &                         0.797297 & pure-greedy                      &       1 &   0    &    0    &     0   \\\\\n",
      "  6 & berlin52\\_3      &   4.22309   &                         0.505068 & pure-greedy                      &       1 &   0    &    0    &     0   \\\\\n",
      "  7 & rc101\\_2         &  16.4769    &                         1        & backtracking                     &       1 &  -0.5  &   -0.5  &     0.5 \\\\\n",
      "  8 & rc101\\_3         &  11.8482    &                         0.761544 & backtracking                     &       1 &  -0.4  &   -0.1  &     1   \\\\\n",
      "  9 & pr8\\_2           &  38.4728    &                         1        & insertion-diverse-hotels         &       1 &   0    &    0    &     0   \\\\\n",
      " 10 & gil250\\_1        & 130.302     &                         0.752024 & backtracking                     &       1 &  -0.4  &   -0.1  &     1   \\\\\n",
      " 11 & gil262\\_1        & 189.11      &                         0.755906 & backtracking                     &       1 &   0    &    0    &     0.5 \\\\\n",
      " 12 & a280\\_1          & 250.723     &                         1        & backtracking                     &       1 &  -0.5  &   -0.5  &     0.5 \\\\\n",
      "\\hline\n",
      "\\end{tabular}\n"
     ]
    }
   ],
   "source": [
    "print(tabulate(table_1, headers = table_1.columns, tablefmt='latex'))"
   ]
  }
 ],
 "metadata": {
  "kernelspec": {
   "display_name": "Python 3",
   "language": "python",
   "name": "python3"
  },
  "language_info": {
   "codemirror_mode": {
    "name": "ipython",
    "version": 3
   },
   "file_extension": ".py",
   "mimetype": "text/x-python",
   "name": "python",
   "nbconvert_exporter": "python",
   "pygments_lexer": "ipython3",
   "version": "3.8.8"
  }
 },
 "nbformat": 4,
 "nbformat_minor": 5
}
