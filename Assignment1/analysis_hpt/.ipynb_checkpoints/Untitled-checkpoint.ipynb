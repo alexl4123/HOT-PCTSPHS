{
 "cells": [
  {
   "cell_type": "markdown",
   "id": "864d91e5",
   "metadata": {},
   "source": [
    "# Analysis HPT"
   ]
  },
  {
   "cell_type": "code",
   "execution_count": 11,
   "id": "0f251046",
   "metadata": {},
   "outputs": [],
   "source": [
    "import csv\n",
    "import pandas as pd\n",
    "from datetime import datetime"
   ]
  },
  {
   "cell_type": "code",
   "execution_count": 27,
   "id": "5cf2c156",
   "metadata": {},
   "outputs": [],
   "source": [
    "from sklearn.linear_model import LinearRegression\n",
    "import numpy as np"
   ]
  },
  {
   "cell_type": "code",
   "execution_count": 14,
   "id": "47d38dd2",
   "metadata": {},
   "outputs": [],
   "source": [
    "df_m_init = pd.read_csv(\"m_init.csv\")\n",
    "df_aco = pd.read_csv(\"aco.csv\")"
   ]
  },
  {
   "cell_type": "code",
   "execution_count": 15,
   "id": "38ddbbf3",
   "metadata": {},
   "outputs": [
    {
     "data": {
      "text/plain": [
       "0      20221231:11:57:12\n",
       "1      20221231:12:00:58\n",
       "2      20221231:12:04:36\n",
       "3      20221231:12:07:43\n",
       "4      20221231:12:11:19\n",
       "             ...        \n",
       "107    20221231:18:16:04\n",
       "108    20221231:18:19:36\n",
       "109    20221231:18:23:14\n",
       "110    20221231:18:26:43\n",
       "111    20221231:18:30:30\n",
       "Name: starting-time, Length: 112, dtype: object"
      ]
     },
     "execution_count": 15,
     "metadata": {},
     "output_type": "execute_result"
    }
   ],
   "source": [
    "df_m_init[\"starting-time\"]"
   ]
  },
  {
   "cell_type": "code",
   "execution_count": 18,
   "id": "f033ff28",
   "metadata": {},
   "outputs": [],
   "source": [
    "time_list = list(df_m_init[\"starting-time\"])"
   ]
  },
  {
   "cell_type": "code",
   "execution_count": 25,
   "id": "c7a6faff",
   "metadata": {},
   "outputs": [],
   "source": [
    "total_times = []\n",
    "\n",
    "start_time = datetime.strptime(time_list[0], '%Y%m%d:%H:%M:%S')\n",
    "\n",
    "for index in range(1,len(time_list)):\n",
    "    item = time_list[index]\n",
    "    item_time = datetime.strptime(item, '%Y%m%d:%H:%M:%S')\n",
    "    total_times.append((item_time - start_time).total_seconds())\n",
    "    "
   ]
  },
  {
   "cell_type": "code",
   "execution_count": 39,
   "id": "23d8af07",
   "metadata": {},
   "outputs": [],
   "source": [
    "y = np.array(total_times)\n",
    "x = np.array(list(range(len(time_list) - 1))).reshape((-1,1))"
   ]
  },
  {
   "cell_type": "code",
   "execution_count": 40,
   "id": "491caf15",
   "metadata": {},
   "outputs": [
    {
     "data": {
      "text/plain": [
       "111"
      ]
     },
     "execution_count": 40,
     "metadata": {},
     "output_type": "execute_result"
    }
   ],
   "source": [
    "len(y)"
   ]
  },
  {
   "cell_type": "code",
   "execution_count": 41,
   "id": "132931a2",
   "metadata": {},
   "outputs": [
    {
     "data": {
      "text/plain": [
       "array([[  0],\n",
       "       [  1],\n",
       "       [  2],\n",
       "       [  3],\n",
       "       [  4],\n",
       "       [  5],\n",
       "       [  6],\n",
       "       [  7],\n",
       "       [  8],\n",
       "       [  9],\n",
       "       [ 10],\n",
       "       [ 11],\n",
       "       [ 12],\n",
       "       [ 13],\n",
       "       [ 14],\n",
       "       [ 15],\n",
       "       [ 16],\n",
       "       [ 17],\n",
       "       [ 18],\n",
       "       [ 19],\n",
       "       [ 20],\n",
       "       [ 21],\n",
       "       [ 22],\n",
       "       [ 23],\n",
       "       [ 24],\n",
       "       [ 25],\n",
       "       [ 26],\n",
       "       [ 27],\n",
       "       [ 28],\n",
       "       [ 29],\n",
       "       [ 30],\n",
       "       [ 31],\n",
       "       [ 32],\n",
       "       [ 33],\n",
       "       [ 34],\n",
       "       [ 35],\n",
       "       [ 36],\n",
       "       [ 37],\n",
       "       [ 38],\n",
       "       [ 39],\n",
       "       [ 40],\n",
       "       [ 41],\n",
       "       [ 42],\n",
       "       [ 43],\n",
       "       [ 44],\n",
       "       [ 45],\n",
       "       [ 46],\n",
       "       [ 47],\n",
       "       [ 48],\n",
       "       [ 49],\n",
       "       [ 50],\n",
       "       [ 51],\n",
       "       [ 52],\n",
       "       [ 53],\n",
       "       [ 54],\n",
       "       [ 55],\n",
       "       [ 56],\n",
       "       [ 57],\n",
       "       [ 58],\n",
       "       [ 59],\n",
       "       [ 60],\n",
       "       [ 61],\n",
       "       [ 62],\n",
       "       [ 63],\n",
       "       [ 64],\n",
       "       [ 65],\n",
       "       [ 66],\n",
       "       [ 67],\n",
       "       [ 68],\n",
       "       [ 69],\n",
       "       [ 70],\n",
       "       [ 71],\n",
       "       [ 72],\n",
       "       [ 73],\n",
       "       [ 74],\n",
       "       [ 75],\n",
       "       [ 76],\n",
       "       [ 77],\n",
       "       [ 78],\n",
       "       [ 79],\n",
       "       [ 80],\n",
       "       [ 81],\n",
       "       [ 82],\n",
       "       [ 83],\n",
       "       [ 84],\n",
       "       [ 85],\n",
       "       [ 86],\n",
       "       [ 87],\n",
       "       [ 88],\n",
       "       [ 89],\n",
       "       [ 90],\n",
       "       [ 91],\n",
       "       [ 92],\n",
       "       [ 93],\n",
       "       [ 94],\n",
       "       [ 95],\n",
       "       [ 96],\n",
       "       [ 97],\n",
       "       [ 98],\n",
       "       [ 99],\n",
       "       [100],\n",
       "       [101],\n",
       "       [102],\n",
       "       [103],\n",
       "       [104],\n",
       "       [105],\n",
       "       [106],\n",
       "       [107],\n",
       "       [108],\n",
       "       [109],\n",
       "       [110]])"
      ]
     },
     "execution_count": 41,
     "metadata": {},
     "output_type": "execute_result"
    }
   ],
   "source": [
    "x"
   ]
  },
  {
   "cell_type": "code",
   "execution_count": 42,
   "id": "1a52082e",
   "metadata": {},
   "outputs": [
    {
     "data": {
      "text/plain": [
       "LinearRegression()"
      ]
     },
     "execution_count": 42,
     "metadata": {},
     "output_type": "execute_result"
    }
   ],
   "source": [
    "model = LinearRegression()\n",
    "model.fit(x,y)"
   ]
  },
  {
   "cell_type": "code",
   "execution_count": 45,
   "id": "dc8d1243",
   "metadata": {},
   "outputs": [],
   "source": [
    "x_pred = np.array([288]).reshape((-1,1))\n",
    "result = model.predict(x_pred)"
   ]
  },
  {
   "cell_type": "code",
   "execution_count": 49,
   "id": "0de0629b",
   "metadata": {},
   "outputs": [
    {
     "data": {
      "text/plain": [
       "17.038277483652486"
      ]
     },
     "execution_count": 49,
     "metadata": {},
     "output_type": "execute_result"
    }
   ],
   "source": [
    "(result[0]/60)/60 # Hours in total"
   ]
  },
  {
   "cell_type": "code",
   "execution_count": 52,
   "id": "a07992de",
   "metadata": {},
   "outputs": [
    {
     "data": {
      "text/plain": [
       "10.483277483652488"
      ]
     },
     "execution_count": 52,
     "metadata": {},
     "output_type": "execute_result"
    }
   ],
   "source": [
    "((result[0] - y[len(y) - 1])/60)/60 # hours remaining"
   ]
  },
  {
   "cell_type": "markdown",
   "id": "2e9d22f7",
   "metadata": {},
   "source": [
    "# ACO"
   ]
  },
  {
   "cell_type": "code",
   "execution_count": 53,
   "id": "c1f98112",
   "metadata": {},
   "outputs": [
    {
     "data": {
      "text/plain": [
       "0     20221231:12:17:31\n",
       "1     20221231:12:24:49\n",
       "2     20221231:12:30:09\n",
       "3     20221231:12:37:34\n",
       "4     20221231:12:43:30\n",
       "5     20221231:12:51:04\n",
       "6     20221231:12:56:50\n",
       "7     20221231:13:04:04\n",
       "8     20221231:13:09:24\n",
       "9     20221231:13:16:45\n",
       "10    20221231:13:22:04\n",
       "11    20221231:13:29:18\n",
       "12    20221231:13:34:41\n",
       "13    20221231:13:42:35\n",
       "14    20221231:13:47:55\n",
       "15    20221231:13:55:16\n",
       "16    20221231:14:00:49\n",
       "17    20221231:14:08:51\n",
       "18    20221231:14:14:34\n",
       "19    20221231:14:21:56\n",
       "20    20221231:14:27:52\n",
       "21    20221231:14:35:42\n",
       "22    20221231:14:40:53\n",
       "23    20221231:14:48:07\n",
       "24    20221231:14:54:18\n",
       "25    20221231:15:00:52\n",
       "26    20221231:15:06:12\n",
       "27    20221231:15:12:34\n",
       "28    20221231:15:17:51\n",
       "29    20221231:15:24:41\n",
       "30    20221231:15:30:47\n",
       "31    20221231:15:37:39\n",
       "32    20221231:15:42:52\n",
       "33    20221231:15:49:48\n",
       "34    20221231:15:55:29\n",
       "35    20221231:16:02:32\n",
       "36    20221231:16:08:10\n",
       "37    20221231:16:14:34\n",
       "38    20221231:16:20:04\n",
       "39    20221231:16:26:17\n",
       "40    20221231:16:31:42\n",
       "41    20221231:16:38:04\n",
       "42    20221231:16:44:20\n",
       "43    20221231:16:51:11\n",
       "44    20221231:16:57:51\n",
       "45    20221231:17:03:45\n",
       "46    20221231:17:10:18\n",
       "47    20221231:17:17:09\n",
       "48    20221231:17:22:50\n",
       "49    20221231:17:30:41\n",
       "50    20221231:17:36:15\n",
       "51    20221231:17:43:04\n",
       "52    20221231:17:48:38\n",
       "53    20221231:17:55:28\n",
       "54    20221231:18:00:42\n",
       "55    20221231:18:07:40\n",
       "56    20221231:18:13:06\n",
       "57    20221231:18:20:48\n",
       "58    20221231:18:26:15\n",
       "Name: starting-time, dtype: object"
      ]
     },
     "execution_count": 53,
     "metadata": {},
     "output_type": "execute_result"
    }
   ],
   "source": [
    "df_aco[\"starting-time\"]"
   ]
  },
  {
   "cell_type": "code",
   "execution_count": 55,
   "id": "5f758951",
   "metadata": {},
   "outputs": [],
   "source": [
    "time_list = list(df_aco[\"starting-time\"])"
   ]
  },
  {
   "cell_type": "code",
   "execution_count": 56,
   "id": "8a995f6d",
   "metadata": {},
   "outputs": [],
   "source": [
    "total_times = []\n",
    "\n",
    "start_time = datetime.strptime(time_list[0], '%Y%m%d:%H:%M:%S')\n",
    "\n",
    "for index in range(1,len(time_list)):\n",
    "    item = time_list[index]\n",
    "    item_time = datetime.strptime(item, '%Y%m%d:%H:%M:%S')\n",
    "    total_times.append((item_time - start_time).total_seconds())\n",
    "    "
   ]
  },
  {
   "cell_type": "code",
   "execution_count": 57,
   "id": "e0475459",
   "metadata": {},
   "outputs": [],
   "source": [
    "y = np.array(total_times)\n",
    "x = np.array(list(range(len(time_list) - 1))).reshape((-1,1))"
   ]
  },
  {
   "cell_type": "code",
   "execution_count": 60,
   "id": "25cc4550",
   "metadata": {},
   "outputs": [
    {
     "data": {
      "text/plain": [
       "LinearRegression()"
      ]
     },
     "execution_count": 60,
     "metadata": {},
     "output_type": "execute_result"
    }
   ],
   "source": [
    "model = LinearRegression()\n",
    "model.fit(x,y)"
   ]
  },
  {
   "cell_type": "code",
   "execution_count": 61,
   "id": "cbeee5a8",
   "metadata": {},
   "outputs": [],
   "source": [
    "x_pred = np.array([192]).reshape((-1,1))\n",
    "result = model.predict(x_pred)"
   ]
  },
  {
   "cell_type": "code",
   "execution_count": 62,
   "id": "cc4fb7ad",
   "metadata": {},
   "outputs": [
    {
     "data": {
      "text/plain": [
       "20.396778729650933"
      ]
     },
     "execution_count": 62,
     "metadata": {},
     "output_type": "execute_result"
    }
   ],
   "source": [
    "(result[0]/60)/60 # Hours in total"
   ]
  },
  {
   "cell_type": "code",
   "execution_count": 63,
   "id": "a43bbe8a",
   "metadata": {},
   "outputs": [
    {
     "data": {
      "text/plain": [
       "14.251223174095378"
      ]
     },
     "execution_count": 63,
     "metadata": {},
     "output_type": "execute_result"
    }
   ],
   "source": [
    "((result[0] - y[len(y) - 1])/60)/60 # hours remaining"
   ]
  },
  {
   "cell_type": "code",
   "execution_count": null,
   "id": "2ab9a9a1",
   "metadata": {},
   "outputs": [],
   "source": []
  }
 ],
 "metadata": {
  "kernelspec": {
   "display_name": "Python 3 (ipykernel)",
   "language": "python",
   "name": "python3"
  },
  "language_info": {
   "codemirror_mode": {
    "name": "ipython",
    "version": 3
   },
   "file_extension": ".py",
   "mimetype": "text/x-python",
   "name": "python",
   "nbconvert_exporter": "python",
   "pygments_lexer": "ipython3",
   "version": "3.9.7"
  }
 },
 "nbformat": 4,
 "nbformat_minor": 5
}
