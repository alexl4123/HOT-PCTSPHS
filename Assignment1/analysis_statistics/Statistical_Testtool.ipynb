{
 "cells": [
  {
   "cell_type": "markdown",
   "metadata": {},
   "source": [
    "# Tool for Statistical Testing"
   ]
  },
  {
   "cell_type": "markdown",
   "metadata": {},
   "source": [
    "This tool shows how we can apply a statistical test on two independent or two paired samples and is subdivided into the following parts:\n",
    "- [Parameters](#Parameters): Parameter for the test that need to be specified (filenames, variable names, alternative).\n",
    "- [Importing the Data](#Importing-the-Data): Here the needed data are imported.\n",
    "- [Tests: Preliminary Code](#Tests:-Preliminary-Code): Code that need to be run before executing the statistical tests.\n",
    "- [Tests for paired samples](#Tests-for-paired-samples): Use this section if your data are paired.\n",
    "- [Tests for independent samples](#Tests-for-independent-samples): Use this section if your data are independent.\n",
    "\n",
    "\n",
    "**General setting**\n",
    "\n",
    "Given two methods (algorithms) **A** and **B** we have the **null hypothesis** $H_0$:\n",
    "\n",
    "$H_0: \\theta_A = \\theta_B$\n",
    "\n",
    "Here $\\theta$ denotes the ground truth of a property (e.g. the expected run time or expected objective function value) of the algorithms **A** and **B**.\n",
    "\n",
    "The **alternative hypothesis** $H_1$ depends on whether we want to apply a **two-sided** or **one-sided** test.\n",
    "\n",
    "- **two-sided test**: Is there a statistically signifcant **difference** between **A** and **B** (e.g. **A** leads to smaller *or* greater objective function values)?\n",
    "  - $H_1: \\theta_A \\neq \\theta_B$ (```alternative = \"two-sided\"```)\n",
    "\n",
    "- **one-sided test**: Does **A** or **A** lead to **better** results (e.g. smaller objective function values in minimization problems)?\n",
    "  - $H_1: \\theta_A > \\theta_B$ (```alternative = \"greater\"```)\n",
    "  - $H_1: \\theta_A < \\theta_B$ (```alternative = \"less\"```)\n",
    "\n",
    "\n",
    "**Provided tests for two paired samples**\n",
    "\n",
    "Two samples are **paired** (also called **related**), if the runtimes or objective function values of **A** and **B** are determined on the **same** instances.\n",
    "In this case we have $n$ pairs of measurements for both algorithms.\n",
    "This tool provides two statistical **tests for two paired samples**:\n",
    "- **t-Test**: Applicable, if the difference of both samples is (approximately) normally distributed. Also applicable, if the sample size $n$ is large enough ($n \\geq 30$) **and** the distribution is not too skewed **and** the sample (the difference) do not contain outliers.\n",
    "- **Wilcoxon-Test**: Alternative, if the assumptions of the t-Test are not fulfilled.\n",
    "\n",
    "\n",
    "**Provided tests for two independent samples**\n",
    "\n",
    "Two samples are independent, if the runtimes or objective function values of **A** and **B** are determined on **different** instances. This tool provides two statistical **tests for two independent samples**:\n",
    "- **t-Test**: Applicable, if the data of both samples are (approximately) normally distributed. Also applicable, if the sample size of both samples $n_A$ and $n_B$ are large enough ($n_A \\geq 30$ and $n_B \\geq 30$) **and** the distribution is not too skewed **and** the samples do not contain outliers. $n_A$ and $n_B$ should be (approximately) equal.\n",
    "- **Wilcoxon-Test (U-Test)**: Alternative, if the assumptions of the t-Test are not fulfilled."
   ]
  },
  {
   "cell_type": "markdown",
   "metadata": {},
   "source": [
    "## Parameters"
   ]
  },
  {
   "cell_type": "markdown",
   "metadata": {},
   "source": [
    "Parameters for **data import**:\n",
    "- ```file_A```: Path to the file, where the results of algorithm **A** can be found.\n",
    "- ```file_B```: Path to the file, where the results of algorithm **B** can be found. The results of **A** and **B** can also be contained in the same file.\n",
    "- ```name_a```: Name of the column, where the results of algorithm **A** can be found.\n",
    "- ```name_b```: Name of the column, where the results of algorithm **B** can be found.\n",
    "\n",
    "Parameters for the **tests**:\n",
    "- ```alternative```: Which alternative $H_1$ should be tested? ```\"two-sided\"```, ```\"greater\"``` or ```\"less\"``` (see above)\n",
    "- ```alpha```: level of significance (usually $0.05$)"
   ]
  },
  {
   "cell_type": "code",
   "execution_count": 43,
   "metadata": {},
   "outputs": [],
   "source": [
    "# Parameters for data import to be set\n",
    "file_A = \"aco/stat_aco.csv\"\n",
    "file_B = \"ga/stat_ga.csv\"\n",
    "\n",
    "# Parameters for the tests to be set\n",
    "alternative = \"two-sided\"\n",
    "alpha = 0.05"
   ]
  },
  {
   "cell_type": "markdown",
   "metadata": {},
   "source": [
    "## Importing the Data"
   ]
  },
  {
   "cell_type": "markdown",
   "metadata": {},
   "source": [
    "It is assumed that the data are given in **csv-format**.\n",
    "Columns are separeted by a **semicolon** ```;``` and the first row contains the **names of the variables**. Furthermore it is assumed that for decimal numbers the **decimal point** ```.``` is used.\n",
    "\n",
    "The following example is based on ```Daten.csv``` (see TUWEL), where the results of **A** and **B** are given in the same file.\n",
    "It is assumed, that this file lies in the subfolder ```data``` of this notebook."
   ]
  },
  {
   "cell_type": "code",
   "execution_count": 2,
   "metadata": {},
   "outputs": [],
   "source": [
    "# Importing the data\n",
    "import pandas as pd\n",
    "df_A = pd.read_csv(file_A, sep = \",\")\n",
    "df_B = pd.read_csv(file_B, sep = \",\")"
   ]
  },
  {
   "cell_type": "code",
   "execution_count": 3,
   "metadata": {},
   "outputs": [
    {
     "data": {
      "text/html": [
       "<div>\n",
       "<style scoped>\n",
       "    .dataframe tbody tr th:only-of-type {\n",
       "        vertical-align: middle;\n",
       "    }\n",
       "\n",
       "    .dataframe tbody tr th {\n",
       "        vertical-align: top;\n",
       "    }\n",
       "\n",
       "    .dataframe thead th {\n",
       "        text-align: right;\n",
       "    }\n",
       "</style>\n",
       "<table border=\"1\" class=\"dataframe\">\n",
       "  <thead>\n",
       "    <tr style=\"text-align: right;\">\n",
       "      <th></th>\n",
       "      <th>type</th>\n",
       "      <th>saw_policy</th>\n",
       "      <th>population_size</th>\n",
       "      <th>random_k</th>\n",
       "      <th>alpha</th>\n",
       "      <th>beta</th>\n",
       "      <th>rho</th>\n",
       "      <th>p</th>\n",
       "      <th>local_information</th>\n",
       "      <th>min_max_ant_system</th>\n",
       "      <th>termination_criterion</th>\n",
       "      <th>iteration</th>\n",
       "      <th>instance</th>\n",
       "      <th>starting-time</th>\n",
       "      <th>fitness</th>\n",
       "    </tr>\n",
       "  </thead>\n",
       "  <tbody>\n",
       "    <tr>\n",
       "      <th>0</th>\n",
       "      <td>algorithm</td>\n",
       "      <td>Constant-Weights(Gamma-1:3;Gamma-2:3;Gamma-3:3)</td>\n",
       "      <td>50</td>\n",
       "      <td>5</td>\n",
       "      <td>1</td>\n",
       "      <td>1</td>\n",
       "      <td>0.24</td>\n",
       "      <td>0.25</td>\n",
       "      <td>objective_value</td>\n",
       "      <td>True</td>\n",
       "      <td>400</td>\n",
       "      <td>0</td>\n",
       "      <td>test</td>\n",
       "      <td>20230103:12:30:55</td>\n",
       "      <td>[1501093.4;1501093.4;1501093.4;1501093.4;15010...</td>\n",
       "    </tr>\n",
       "    <tr>\n",
       "      <th>1</th>\n",
       "      <td>algorithm</td>\n",
       "      <td>Constant-Weights(Gamma-1:3;Gamma-2:3;Gamma-3:3)</td>\n",
       "      <td>50</td>\n",
       "      <td>5</td>\n",
       "      <td>1</td>\n",
       "      <td>1</td>\n",
       "      <td>0.24</td>\n",
       "      <td>0.25</td>\n",
       "      <td>objective_value</td>\n",
       "      <td>True</td>\n",
       "      <td>400</td>\n",
       "      <td>1</td>\n",
       "      <td>rc101_1</td>\n",
       "      <td>20230103:12:31:34</td>\n",
       "      <td>[221123730.1;221123730.1;221123730.1;221123730...</td>\n",
       "    </tr>\n",
       "    <tr>\n",
       "      <th>2</th>\n",
       "      <td>algorithm</td>\n",
       "      <td>Constant-Weights(Gamma-1:3;Gamma-2:3;Gamma-3:3)</td>\n",
       "      <td>50</td>\n",
       "      <td>5</td>\n",
       "      <td>1</td>\n",
       "      <td>1</td>\n",
       "      <td>0.24</td>\n",
       "      <td>0.25</td>\n",
       "      <td>objective_value</td>\n",
       "      <td>True</td>\n",
       "      <td>400</td>\n",
       "      <td>2</td>\n",
       "      <td>pr8_1</td>\n",
       "      <td>20230103:12:32:49</td>\n",
       "      <td>[3155159487.442;3155159487.442;3155159487.442;...</td>\n",
       "    </tr>\n",
       "    <tr>\n",
       "      <th>3</th>\n",
       "      <td>algorithm</td>\n",
       "      <td>Constant-Weights(Gamma-1:3;Gamma-2:3;Gamma-3:3)</td>\n",
       "      <td>50</td>\n",
       "      <td>5</td>\n",
       "      <td>1</td>\n",
       "      <td>1</td>\n",
       "      <td>0.24</td>\n",
       "      <td>0.25</td>\n",
       "      <td>objective_value</td>\n",
       "      <td>True</td>\n",
       "      <td>400</td>\n",
       "      <td>3</td>\n",
       "      <td>pr8_2</td>\n",
       "      <td>20230103:12:39:11</td>\n",
       "      <td>[20101722379.72;20101722379.72;20101722379.72;...</td>\n",
       "    </tr>\n",
       "    <tr>\n",
       "      <th>4</th>\n",
       "      <td>algorithm</td>\n",
       "      <td>Constant-Weights(Gamma-1:3;Gamma-2:3;Gamma-3:3)</td>\n",
       "      <td>50</td>\n",
       "      <td>5</td>\n",
       "      <td>1</td>\n",
       "      <td>1</td>\n",
       "      <td>0.24</td>\n",
       "      <td>0.25</td>\n",
       "      <td>objective_value</td>\n",
       "      <td>True</td>\n",
       "      <td>400</td>\n",
       "      <td>4</td>\n",
       "      <td>berlin52_1</td>\n",
       "      <td>20230103:12:41:23</td>\n",
       "      <td>[27193437260.536583;27193437260.536583;2719343...</td>\n",
       "    </tr>\n",
       "    <tr>\n",
       "      <th>5</th>\n",
       "      <td>algorithm</td>\n",
       "      <td>Constant-Weights(Gamma-1:3;Gamma-2:3;Gamma-3:3)</td>\n",
       "      <td>50</td>\n",
       "      <td>5</td>\n",
       "      <td>1</td>\n",
       "      <td>1</td>\n",
       "      <td>0.24</td>\n",
       "      <td>0.25</td>\n",
       "      <td>objective_value</td>\n",
       "      <td>True</td>\n",
       "      <td>400</td>\n",
       "      <td>5</td>\n",
       "      <td>rc101_2</td>\n",
       "      <td>20230103:12:45:52</td>\n",
       "      <td>[4837484482.0;4837484482.0;4837484482.0;483748...</td>\n",
       "    </tr>\n",
       "    <tr>\n",
       "      <th>6</th>\n",
       "      <td>algorithm</td>\n",
       "      <td>Constant-Weights(Gamma-1:3;Gamma-2:3;Gamma-3:3)</td>\n",
       "      <td>50</td>\n",
       "      <td>5</td>\n",
       "      <td>1</td>\n",
       "      <td>1</td>\n",
       "      <td>0.24</td>\n",
       "      <td>0.25</td>\n",
       "      <td>objective_value</td>\n",
       "      <td>True</td>\n",
       "      <td>400</td>\n",
       "      <td>6</td>\n",
       "      <td>a280_1</td>\n",
       "      <td>20230103:13:00:09</td>\n",
       "      <td>[29220838636.87767;29220838636.87767;292208386...</td>\n",
       "    </tr>\n",
       "  </tbody>\n",
       "</table>\n",
       "</div>"
      ],
      "text/plain": [
       "        type                                       saw_policy  \\\n",
       "0  algorithm  Constant-Weights(Gamma-1:3;Gamma-2:3;Gamma-3:3)   \n",
       "1  algorithm  Constant-Weights(Gamma-1:3;Gamma-2:3;Gamma-3:3)   \n",
       "2  algorithm  Constant-Weights(Gamma-1:3;Gamma-2:3;Gamma-3:3)   \n",
       "3  algorithm  Constant-Weights(Gamma-1:3;Gamma-2:3;Gamma-3:3)   \n",
       "4  algorithm  Constant-Weights(Gamma-1:3;Gamma-2:3;Gamma-3:3)   \n",
       "5  algorithm  Constant-Weights(Gamma-1:3;Gamma-2:3;Gamma-3:3)   \n",
       "6  algorithm  Constant-Weights(Gamma-1:3;Gamma-2:3;Gamma-3:3)   \n",
       "\n",
       "   population_size  random_k  alpha  beta   rho     p local_information  \\\n",
       "0               50         5      1     1  0.24  0.25   objective_value   \n",
       "1               50         5      1     1  0.24  0.25   objective_value   \n",
       "2               50         5      1     1  0.24  0.25   objective_value   \n",
       "3               50         5      1     1  0.24  0.25   objective_value   \n",
       "4               50         5      1     1  0.24  0.25   objective_value   \n",
       "5               50         5      1     1  0.24  0.25   objective_value   \n",
       "6               50         5      1     1  0.24  0.25   objective_value   \n",
       "\n",
       "   min_max_ant_system  termination_criterion  iteration    instance  \\\n",
       "0                True                    400          0        test   \n",
       "1                True                    400          1     rc101_1   \n",
       "2                True                    400          2       pr8_1   \n",
       "3                True                    400          3       pr8_2   \n",
       "4                True                    400          4  berlin52_1   \n",
       "5                True                    400          5     rc101_2   \n",
       "6                True                    400          6      a280_1   \n",
       "\n",
       "       starting-time                                            fitness  \n",
       "0  20230103:12:30:55  [1501093.4;1501093.4;1501093.4;1501093.4;15010...  \n",
       "1  20230103:12:31:34  [221123730.1;221123730.1;221123730.1;221123730...  \n",
       "2  20230103:12:32:49  [3155159487.442;3155159487.442;3155159487.442;...  \n",
       "3  20230103:12:39:11  [20101722379.72;20101722379.72;20101722379.72;...  \n",
       "4  20230103:12:41:23  [27193437260.536583;27193437260.536583;2719343...  \n",
       "5  20230103:12:45:52  [4837484482.0;4837484482.0;4837484482.0;483748...  \n",
       "6  20230103:13:00:09  [29220838636.87767;29220838636.87767;292208386...  "
      ]
     },
     "execution_count": 3,
     "metadata": {},
     "output_type": "execute_result"
    }
   ],
   "source": [
    "df_A"
   ]
  },
  {
   "cell_type": "code",
   "execution_count": 4,
   "metadata": {},
   "outputs": [],
   "source": [
    "data = df_A"
   ]
  },
  {
   "cell_type": "markdown",
   "metadata": {},
   "source": [
    "## Preprocess the results"
   ]
  },
  {
   "cell_type": "code",
   "execution_count": 28,
   "metadata": {},
   "outputs": [],
   "source": [
    "def convert_fitnesses_to_df(data):\n",
    "    instances = list(data[\"instance\"])\n",
    "    instances.sort() # Just to be safe\n",
    "    instances = set(instances)\n",
    "    new_df = pd.DataFrame([])\n",
    "    for instance in instances:\n",
    "        row = (data[data[\"instance\"] == instance]).iloc[0]\n",
    "\n",
    "        fitness_str = (row[\"fitness\"][1:len(list(row[\"fitness\"])) - 1])\n",
    "        fitness_list = list(map(float, fitness_str.split(';')))\n",
    "        fitness_list.sort()          \n",
    "\n",
    "        new_df[instance] = fitness_list\n",
    "        \n",
    "    return new_df"
   ]
  },
  {
   "cell_type": "code",
   "execution_count": 31,
   "metadata": {},
   "outputs": [],
   "source": [
    "real_A = convert_fitnesses_to_df(df_A)\n",
    "real_B = convert_fitnesses_to_df(df_B)"
   ]
  },
  {
   "cell_type": "code",
   "execution_count": 37,
   "metadata": {},
   "outputs": [
    {
     "data": {
      "text/html": [
       "<div>\n",
       "<style scoped>\n",
       "    .dataframe tbody tr th:only-of-type {\n",
       "        vertical-align: middle;\n",
       "    }\n",
       "\n",
       "    .dataframe tbody tr th {\n",
       "        vertical-align: top;\n",
       "    }\n",
       "\n",
       "    .dataframe thead th {\n",
       "        text-align: right;\n",
       "    }\n",
       "</style>\n",
       "<table border=\"1\" class=\"dataframe\">\n",
       "  <thead>\n",
       "    <tr style=\"text-align: right;\">\n",
       "      <th></th>\n",
       "      <th>test</th>\n",
       "      <th>a280_1</th>\n",
       "      <th>rc101_1</th>\n",
       "      <th>rc101_2</th>\n",
       "      <th>pr8_2</th>\n",
       "      <th>berlin52_1</th>\n",
       "      <th>pr8_1</th>\n",
       "    </tr>\n",
       "  </thead>\n",
       "  <tbody>\n",
       "    <tr>\n",
       "      <th>0</th>\n",
       "      <td>1501093.4</td>\n",
       "      <td>2.922084e+10</td>\n",
       "      <td>221123730.1</td>\n",
       "      <td>4.837484e+09</td>\n",
       "      <td>2.010172e+10</td>\n",
       "      <td>2.719344e+10</td>\n",
       "      <td>3.155159e+09</td>\n",
       "    </tr>\n",
       "    <tr>\n",
       "      <th>1</th>\n",
       "      <td>1501093.4</td>\n",
       "      <td>2.922084e+10</td>\n",
       "      <td>221123730.1</td>\n",
       "      <td>4.837484e+09</td>\n",
       "      <td>2.010172e+10</td>\n",
       "      <td>2.719344e+10</td>\n",
       "      <td>3.155159e+09</td>\n",
       "    </tr>\n",
       "    <tr>\n",
       "      <th>2</th>\n",
       "      <td>1501093.4</td>\n",
       "      <td>2.922084e+10</td>\n",
       "      <td>221123730.1</td>\n",
       "      <td>4.837484e+09</td>\n",
       "      <td>2.010172e+10</td>\n",
       "      <td>2.719344e+10</td>\n",
       "      <td>3.155159e+09</td>\n",
       "    </tr>\n",
       "    <tr>\n",
       "      <th>3</th>\n",
       "      <td>1501093.4</td>\n",
       "      <td>2.922084e+10</td>\n",
       "      <td>221123730.1</td>\n",
       "      <td>4.837484e+09</td>\n",
       "      <td>2.010172e+10</td>\n",
       "      <td>2.719344e+10</td>\n",
       "      <td>3.155159e+09</td>\n",
       "    </tr>\n",
       "    <tr>\n",
       "      <th>4</th>\n",
       "      <td>1501093.4</td>\n",
       "      <td>2.922084e+10</td>\n",
       "      <td>221123730.1</td>\n",
       "      <td>4.837484e+09</td>\n",
       "      <td>2.010172e+10</td>\n",
       "      <td>2.719344e+10</td>\n",
       "      <td>3.155159e+09</td>\n",
       "    </tr>\n",
       "    <tr>\n",
       "      <th>5</th>\n",
       "      <td>1501093.4</td>\n",
       "      <td>2.922084e+10</td>\n",
       "      <td>221123730.1</td>\n",
       "      <td>4.837484e+09</td>\n",
       "      <td>2.010172e+10</td>\n",
       "      <td>2.719344e+10</td>\n",
       "      <td>3.155159e+09</td>\n",
       "    </tr>\n",
       "    <tr>\n",
       "      <th>6</th>\n",
       "      <td>1501093.4</td>\n",
       "      <td>2.922084e+10</td>\n",
       "      <td>221123730.1</td>\n",
       "      <td>4.837484e+09</td>\n",
       "      <td>2.010172e+10</td>\n",
       "      <td>2.719344e+10</td>\n",
       "      <td>3.155159e+09</td>\n",
       "    </tr>\n",
       "    <tr>\n",
       "      <th>7</th>\n",
       "      <td>1501093.4</td>\n",
       "      <td>2.922084e+10</td>\n",
       "      <td>221123730.1</td>\n",
       "      <td>4.837484e+09</td>\n",
       "      <td>2.010172e+10</td>\n",
       "      <td>2.719344e+10</td>\n",
       "      <td>3.155159e+09</td>\n",
       "    </tr>\n",
       "    <tr>\n",
       "      <th>8</th>\n",
       "      <td>1501093.4</td>\n",
       "      <td>2.922084e+10</td>\n",
       "      <td>221123730.1</td>\n",
       "      <td>4.837484e+09</td>\n",
       "      <td>2.010172e+10</td>\n",
       "      <td>2.719344e+10</td>\n",
       "      <td>3.155159e+09</td>\n",
       "    </tr>\n",
       "    <tr>\n",
       "      <th>9</th>\n",
       "      <td>1501093.4</td>\n",
       "      <td>2.922084e+10</td>\n",
       "      <td>221123730.1</td>\n",
       "      <td>4.837484e+09</td>\n",
       "      <td>2.010172e+10</td>\n",
       "      <td>2.719344e+10</td>\n",
       "      <td>3.155159e+09</td>\n",
       "    </tr>\n",
       "    <tr>\n",
       "      <th>10</th>\n",
       "      <td>1501093.4</td>\n",
       "      <td>2.922084e+10</td>\n",
       "      <td>221123730.1</td>\n",
       "      <td>4.837484e+09</td>\n",
       "      <td>2.010172e+10</td>\n",
       "      <td>2.719344e+10</td>\n",
       "      <td>3.155159e+09</td>\n",
       "    </tr>\n",
       "    <tr>\n",
       "      <th>11</th>\n",
       "      <td>1501093.4</td>\n",
       "      <td>2.922084e+10</td>\n",
       "      <td>221123730.1</td>\n",
       "      <td>4.837484e+09</td>\n",
       "      <td>2.010172e+10</td>\n",
       "      <td>2.719344e+10</td>\n",
       "      <td>3.155159e+09</td>\n",
       "    </tr>\n",
       "    <tr>\n",
       "      <th>12</th>\n",
       "      <td>1501093.4</td>\n",
       "      <td>2.922084e+10</td>\n",
       "      <td>221123730.1</td>\n",
       "      <td>4.837484e+09</td>\n",
       "      <td>2.010172e+10</td>\n",
       "      <td>2.719344e+10</td>\n",
       "      <td>3.155159e+09</td>\n",
       "    </tr>\n",
       "    <tr>\n",
       "      <th>13</th>\n",
       "      <td>1501093.4</td>\n",
       "      <td>2.922084e+10</td>\n",
       "      <td>221123730.1</td>\n",
       "      <td>4.837484e+09</td>\n",
       "      <td>2.010172e+10</td>\n",
       "      <td>2.719344e+10</td>\n",
       "      <td>3.155159e+09</td>\n",
       "    </tr>\n",
       "    <tr>\n",
       "      <th>14</th>\n",
       "      <td>1501093.4</td>\n",
       "      <td>2.922084e+10</td>\n",
       "      <td>221123730.1</td>\n",
       "      <td>4.837484e+09</td>\n",
       "      <td>2.010172e+10</td>\n",
       "      <td>2.719344e+10</td>\n",
       "      <td>3.155159e+09</td>\n",
       "    </tr>\n",
       "    <tr>\n",
       "      <th>15</th>\n",
       "      <td>1501093.4</td>\n",
       "      <td>2.922084e+10</td>\n",
       "      <td>221123730.1</td>\n",
       "      <td>4.837484e+09</td>\n",
       "      <td>2.010172e+10</td>\n",
       "      <td>2.719344e+10</td>\n",
       "      <td>3.155159e+09</td>\n",
       "    </tr>\n",
       "    <tr>\n",
       "      <th>16</th>\n",
       "      <td>1501093.4</td>\n",
       "      <td>2.922084e+10</td>\n",
       "      <td>221123730.1</td>\n",
       "      <td>4.837484e+09</td>\n",
       "      <td>2.010172e+10</td>\n",
       "      <td>2.719344e+10</td>\n",
       "      <td>3.155159e+09</td>\n",
       "    </tr>\n",
       "    <tr>\n",
       "      <th>17</th>\n",
       "      <td>1501093.4</td>\n",
       "      <td>2.922084e+10</td>\n",
       "      <td>221123730.1</td>\n",
       "      <td>4.837484e+09</td>\n",
       "      <td>2.010172e+10</td>\n",
       "      <td>2.719344e+10</td>\n",
       "      <td>3.155159e+09</td>\n",
       "    </tr>\n",
       "    <tr>\n",
       "      <th>18</th>\n",
       "      <td>1501093.4</td>\n",
       "      <td>2.922084e+10</td>\n",
       "      <td>221123730.1</td>\n",
       "      <td>4.837484e+09</td>\n",
       "      <td>2.010172e+10</td>\n",
       "      <td>2.719344e+10</td>\n",
       "      <td>3.155159e+09</td>\n",
       "    </tr>\n",
       "    <tr>\n",
       "      <th>19</th>\n",
       "      <td>1501093.4</td>\n",
       "      <td>2.922084e+10</td>\n",
       "      <td>221123730.1</td>\n",
       "      <td>4.837484e+09</td>\n",
       "      <td>2.010172e+10</td>\n",
       "      <td>2.719344e+10</td>\n",
       "      <td>3.155159e+09</td>\n",
       "    </tr>\n",
       "  </tbody>\n",
       "</table>\n",
       "</div>"
      ],
      "text/plain": [
       "         test        a280_1      rc101_1       rc101_2         pr8_2  \\\n",
       "0   1501093.4  2.922084e+10  221123730.1  4.837484e+09  2.010172e+10   \n",
       "1   1501093.4  2.922084e+10  221123730.1  4.837484e+09  2.010172e+10   \n",
       "2   1501093.4  2.922084e+10  221123730.1  4.837484e+09  2.010172e+10   \n",
       "3   1501093.4  2.922084e+10  221123730.1  4.837484e+09  2.010172e+10   \n",
       "4   1501093.4  2.922084e+10  221123730.1  4.837484e+09  2.010172e+10   \n",
       "5   1501093.4  2.922084e+10  221123730.1  4.837484e+09  2.010172e+10   \n",
       "6   1501093.4  2.922084e+10  221123730.1  4.837484e+09  2.010172e+10   \n",
       "7   1501093.4  2.922084e+10  221123730.1  4.837484e+09  2.010172e+10   \n",
       "8   1501093.4  2.922084e+10  221123730.1  4.837484e+09  2.010172e+10   \n",
       "9   1501093.4  2.922084e+10  221123730.1  4.837484e+09  2.010172e+10   \n",
       "10  1501093.4  2.922084e+10  221123730.1  4.837484e+09  2.010172e+10   \n",
       "11  1501093.4  2.922084e+10  221123730.1  4.837484e+09  2.010172e+10   \n",
       "12  1501093.4  2.922084e+10  221123730.1  4.837484e+09  2.010172e+10   \n",
       "13  1501093.4  2.922084e+10  221123730.1  4.837484e+09  2.010172e+10   \n",
       "14  1501093.4  2.922084e+10  221123730.1  4.837484e+09  2.010172e+10   \n",
       "15  1501093.4  2.922084e+10  221123730.1  4.837484e+09  2.010172e+10   \n",
       "16  1501093.4  2.922084e+10  221123730.1  4.837484e+09  2.010172e+10   \n",
       "17  1501093.4  2.922084e+10  221123730.1  4.837484e+09  2.010172e+10   \n",
       "18  1501093.4  2.922084e+10  221123730.1  4.837484e+09  2.010172e+10   \n",
       "19  1501093.4  2.922084e+10  221123730.1  4.837484e+09  2.010172e+10   \n",
       "\n",
       "      berlin52_1         pr8_1  \n",
       "0   2.719344e+10  3.155159e+09  \n",
       "1   2.719344e+10  3.155159e+09  \n",
       "2   2.719344e+10  3.155159e+09  \n",
       "3   2.719344e+10  3.155159e+09  \n",
       "4   2.719344e+10  3.155159e+09  \n",
       "5   2.719344e+10  3.155159e+09  \n",
       "6   2.719344e+10  3.155159e+09  \n",
       "7   2.719344e+10  3.155159e+09  \n",
       "8   2.719344e+10  3.155159e+09  \n",
       "9   2.719344e+10  3.155159e+09  \n",
       "10  2.719344e+10  3.155159e+09  \n",
       "11  2.719344e+10  3.155159e+09  \n",
       "12  2.719344e+10  3.155159e+09  \n",
       "13  2.719344e+10  3.155159e+09  \n",
       "14  2.719344e+10  3.155159e+09  \n",
       "15  2.719344e+10  3.155159e+09  \n",
       "16  2.719344e+10  3.155159e+09  \n",
       "17  2.719344e+10  3.155159e+09  \n",
       "18  2.719344e+10  3.155159e+09  \n",
       "19  2.719344e+10  3.155159e+09  "
      ]
     },
     "execution_count": 37,
     "metadata": {},
     "output_type": "execute_result"
    }
   ],
   "source": [
    "real_A"
   ]
  },
  {
   "cell_type": "markdown",
   "metadata": {},
   "source": [
    "## Tests: Preliminary Code"
   ]
  },
  {
   "cell_type": "markdown",
   "metadata": {},
   "source": [
    "The following packages need to be imported:"
   ]
  },
  {
   "cell_type": "code",
   "execution_count": 34,
   "metadata": {},
   "outputs": [],
   "source": [
    "import numpy as np\n",
    "import matplotlib.pyplot as plt\n",
    "\n",
    "# scipy contains statistical tests and other useful content\n",
    "import scipy.stats\n",
    "from scipy.stats import norm"
   ]
  },
  {
   "cell_type": "markdown",
   "metadata": {},
   "source": [
    "We define some auxiliary functions:\n",
    "- ```print_decision(pvalue, alpha```: Function that prints the results of a test. Input parameters:\n",
    "  - ```pvalue```: the p-value of the test\n",
    "  - ```alpha```: level of significance\n",
    "- ```compute_pvalue```: Sometimes, statistical tests only provide two-sided p-values. In case of one-sided tests, the p-value needs to be corrected accordingly. This is what this function does. Input parameters:\n",
    "  - ```pvalue```: the two-sided p-value\n",
    "  - ```diff```: the difference of the sample means (*mean(data_A) - mean(data_B)*)\n",
    "  - ```alternative```: either ```\"two-sided\"```, ```\"greater\"``` or ```\"less\"```\n",
    "- ```plot_hist(data, group)```: Plots a histogram together with the estimated normal probability density curve. Input parameters:\n",
    "  - ```data```: data for the histogram\n",
    "  - ```group```: What is the depicted group in the plot? (used in the title)"
   ]
  },
  {
   "cell_type": "code",
   "execution_count": 35,
   "metadata": {},
   "outputs": [],
   "source": [
    "def print_decision(pvalue, alpha):\n",
    "    print(\"Test Result:\")\n",
    "    print(\"p-value = %.4f\" % (pvalue))\n",
    "    if pvalue < alpha:\n",
    "        print(\"H0 can be rejected on a level of significance of \" + str(alpha) + \".\")\n",
    "    else:\n",
    "        print(\"H0 cannot be rejected on a level of significance of \" + str(alpha) + \".\")\n",
    "        \n",
    "def compute_pvalue(pvalue, diff, alternative):\n",
    "    if alternative == \"greater\":\n",
    "        if diff > 0:\n",
    "            pvalue = pvalue / 2\n",
    "        else:\n",
    "            pvalue = 1 - pvalue / 2\n",
    "    elif alternative == \"less\":\n",
    "        if diff < 0:\n",
    "            pvalue = pvalue / 2\n",
    "        else:\n",
    "            pvalue = 1 - pvalue / 2\n",
    "    return pvalue\n",
    "\n",
    "def plot_hist(data, group):\n",
    "    # Plot a histogram\n",
    "    plt.hist(data, density = True, alpha = 0.5)\n",
    "\n",
    "    # Fit a normal distribution to the data\n",
    "    mu, std = norm.fit(data)\n",
    "\n",
    "    # Plot the probability density function\n",
    "    xmin, xmax = plt.xlim()\n",
    "    x = np.linspace(xmin, xmax, 201)\n",
    "    y = norm.pdf(x, mu, std)\n",
    "    plt.plot(x, y, \"black\")\n",
    "    title = \"Fit results of \" + group + \": mu = %.2f,  std = %.2f\" % (mu, std)\n",
    "    plt.title(title)\n",
    "\n",
    "    plt.show()"
   ]
  },
  {
   "cell_type": "markdown",
   "metadata": {},
   "source": [
    "## Tests for paired samples"
   ]
  },
  {
   "cell_type": "markdown",
   "metadata": {},
   "source": [
    "Use this section if you have **two paired samples**."
   ]
  },
  {
   "cell_type": "markdown",
   "metadata": {},
   "source": [
    "### Visualisation of the distribution of the difference"
   ]
  },
  {
   "cell_type": "markdown",
   "metadata": {},
   "source": [
    "We check, whether the difference ```data_A - data_B``` is (approximately) normally distributed.\n",
    "This can be done by plotting a **histogram**.\n",
    "Furthermore we plot the **density of an estimated normal distribution**.\n",
    "If the curve approximately follows the histogram, then normal distribution can be assumed."
   ]
  },
  {
   "cell_type": "code",
   "execution_count": 38,
   "metadata": {},
   "outputs": [
    {
     "data": {
      "image/png": "[encoded data removed]",
      "text/plain": [
       "<Figure size 432x288 with 1 Axes>"
      ]
     },
     "metadata": {
      "needs_background": "light"
     },
     "output_type": "display_data"
    }
   ],
   "source": [
    "plot_hist(real_A[\"a280_1\"] - real_B[\"a280_1\"], \"difference\")"
   ]
  },
  {
   "cell_type": "markdown",
   "metadata": {},
   "source": [
    "### t-Test for two paired samples"
   ]
  },
  {
   "cell_type": "markdown",
   "metadata": {},
   "source": [
    "See https://docs.scipy.org/doc/scipy/reference/generated/scipy.stats.ttest_rel.html\n",
    "\n",
    "**Note**: Only the two-sided p-value is returned!"
   ]
  },
  {
   "cell_type": "code",
   "execution_count": 6,
   "metadata": {},
   "outputs": [
    {
     "name": "stdout",
     "output_type": "stream",
     "text": [
      "Test Result:\n",
      "p-value = 0.0344\n",
      "H0 can be rejected on a level of significance of 0.05.\n"
     ]
    }
   ],
   "source": [
    "# Apply the statistical test\n",
    "res = scipy.stats.ttest_rel(data_A, data_B)\n",
    "pvalue = res.pvalue\n",
    "\n",
    "# Compute the correct p-value (two-sided vs. one-sided)\n",
    "pvalue = compute_pvalue(res.pvalue, np.mean(data_A) - np.mean(data_B), alternative)\n",
    "\n",
    "# Print results\n",
    "print_decision(pvalue, alpha)"
   ]
  },
  {
   "cell_type": "markdown",
   "metadata": {},
   "source": [
    "### Wilcoxon Test for two paired samples"
   ]
  },
  {
   "cell_type": "markdown",
   "metadata": {},
   "source": [
    "See https://docs.scipy.org/doc/scipy/reference/generated/scipy.stats.wilcoxon.html"
   ]
  },
  {
   "cell_type": "code",
   "execution_count": 46,
   "metadata": {},
   "outputs": [
    {
     "name": "stdout",
     "output_type": "stream",
     "text": [
      "---------\n",
      "test\n",
      "Test Result:\n",
      "p-value = 0.0000\n",
      "H0 can be rejected on a level of significance of 0.05.\n",
      "A better than B\n",
      "---------\n",
      "a280_1\n",
      "Test Result:\n",
      "p-value = 0.0000\n",
      "H0 can be rejected on a level of significance of 0.05.\n",
      "A better than B\n",
      "---------\n",
      "rc101_1\n",
      "Test Result:\n",
      "p-value = 0.0000\n",
      "H0 can be rejected on a level of significance of 0.05.\n",
      "A better than B\n",
      "---------\n",
      "rc101_2\n",
      "Test Result:\n",
      "p-value = 0.0000\n",
      "H0 can be rejected on a level of significance of 0.05.\n",
      "B better than A\n",
      "---------\n",
      "pr8_2\n",
      "Test Result:\n",
      "p-value = 0.0000\n",
      "H0 can be rejected on a level of significance of 0.05.\n",
      "A better than B\n",
      "---------\n",
      "berlin52_1\n",
      "Test Result:\n",
      "p-value = 0.0000\n",
      "H0 can be rejected on a level of significance of 0.05.\n",
      "B better than A\n",
      "---------\n",
      "pr8_1\n",
      "Test Result:\n",
      "p-value = 0.0000\n",
      "H0 can be rejected on a level of significance of 0.05.\n",
      "B better than A\n"
     ]
    }
   ],
   "source": [
    "for col in real_A.columns:\n",
    "    col_A = real_A[col]\n",
    "    col_B = real_B[col]\n",
    "    # Apply the statistical test\n",
    "    res = scipy.stats.wilcoxon(col_A, col_B, alternative = alternative)\n",
    "\n",
    "    print(\"---------\")\n",
    "    print(col)\n",
    "    # Print results\n",
    "    print_decision(res.pvalue, alpha)\n",
    "    \n",
    "    avg_A = sum(col_A) / len(col_A)\n",
    "    avg_B = sum(col_B) / len(col_B)\n",
    "    \n",
    "    if avg_A > avg_B:\n",
    "        print(\"A better than B\")\n",
    "        # ACO better than GA\n",
    "    else:\n",
    "        print(\"B better than A\")\n",
    "        # GA better than ACO"
   ]
  },
  {
   "cell_type": "markdown",
   "metadata": {},
   "source": [
    "## Tests for independent samples"
   ]
  },
  {
   "cell_type": "markdown",
   "metadata": {},
   "source": [
    "Use this section if you have **two independent samples**."
   ]
  },
  {
   "cell_type": "markdown",
   "metadata": {},
   "source": [
    "### Visualisation of the distribution of both groups"
   ]
  },
  {
   "cell_type": "markdown",
   "metadata": {},
   "source": [
    "We check, whether both samples ```data_A - data_B``` are (approximately) normally distributed.\n",
    "This can be done by plotting a **histogram** for each group.\n",
    "Furthermore we plot the **density of an estimated normal distribution** \n",
    "If the curves approximately follows the corresponding histogram, then normal distribution can be assumed."
   ]
  },
  {
   "cell_type": "code",
   "execution_count": 8,
   "metadata": {},
   "outputs": [
    {
     "data": {
      "image/png": "[encoded data removed]",
      "text/plain": [
       "<Figure size 432x288 with 1 Axes>"
      ]
     },
     "metadata": {
      "needs_background": "light"
     },
     "output_type": "display_data"
    },
    {
     "data": {
      "image/png": "[encoded data removed]",
      "text/plain": [
       "<Figure size 432x288 with 1 Axes>"
      ]
     },
     "metadata": {
      "needs_background": "light"
     },
     "output_type": "display_data"
    }
   ],
   "source": [
    "plot_hist(data_A, name_A)\n",
    "plot_hist(data_B, name_B)"
   ]
  },
  {
   "cell_type": "markdown",
   "metadata": {},
   "source": [
    "### t-Test for two independent samples"
   ]
  },
  {
   "cell_type": "markdown",
   "metadata": {},
   "source": [
    "See https://docs.scipy.org/doc/scipy/reference/generated/scipy.stats.ttest_ind.html\n",
    "\n",
    "**Note**: Only the two-sided p-value is returned!"
   ]
  },
  {
   "cell_type": "code",
   "execution_count": 9,
   "metadata": {},
   "outputs": [
    {
     "name": "stdout",
     "output_type": "stream",
     "text": [
      "Test Result:\n",
      "p-value = 0.8873\n",
      "H0 cannot be rejected on a level of significance of 0.05.\n"
     ]
    }
   ],
   "source": [
    "# Apply the statistical test\n",
    "res = scipy.stats.ttest_ind(data_A, data_B)\n",
    "pvalue = res.pvalue\n",
    "\n",
    "# Compute the correct p-value (two-sided vs. one-sided)\n",
    "pvalue = compute_pvalue(res.pvalue, np.mean(data_A) - np.mean(data_B), alternative)\n",
    "\n",
    "# Print results\n",
    "print_decision(pvalue, alpha)"
   ]
  },
  {
   "cell_type": "markdown",
   "metadata": {},
   "source": [
    "### U-Test for two independent samples"
   ]
  },
  {
   "cell_type": "markdown",
   "metadata": {},
   "source": [
    "See https://docs.scipy.org/doc/scipy/reference/generated/scipy.stats.mannwhitneyu.html"
   ]
  },
  {
   "cell_type": "code",
   "execution_count": 45,
   "metadata": {},
   "outputs": [
    {
     "name": "stdout",
     "output_type": "stream",
     "text": [
      "Test Result:\n",
      "p-value = 0.0000\n",
      "H0 can be rejected on a level of significance of 0.05.\n",
      "Test Result:\n",
      "p-value = 0.0000\n",
      "H0 can be rejected on a level of significance of 0.05.\n",
      "Test Result:\n",
      "p-value = 0.0000\n",
      "H0 can be rejected on a level of significance of 0.05.\n",
      "Test Result:\n",
      "p-value = 0.0000\n",
      "H0 can be rejected on a level of significance of 0.05.\n",
      "Test Result:\n",
      "p-value = 0.0000\n",
      "H0 can be rejected on a level of significance of 0.05.\n",
      "Test Result:\n",
      "p-value = 0.0000\n",
      "H0 can be rejected on a level of significance of 0.05.\n",
      "Test Result:\n",
      "p-value = 0.0000\n",
      "H0 can be rejected on a level of significance of 0.05.\n"
     ]
    }
   ],
   "source": [
    "for col in real_A.columns:\n",
    "    col_A = real_A[col]\n",
    "    col_B = real_B[col]\n",
    "    # Apply the statistical test\n",
    "    res = scipy.stats.mannwhitneyu(col_A, col_B, alternative = alternative)\n",
    "\n",
    "    # Print results\n",
    "    print_decision(res.pvalue, alpha)"
   ]
  },
  {
   "cell_type": "code",
   "execution_count": null,
   "metadata": {},
   "outputs": [],
   "source": []
  }
 ],
 "metadata": {
  "kernelspec": {
   "display_name": "Python 3 (ipykernel)",
   "language": "python",
   "name": "python3"
  },
  "language_info": {
   "codemirror_mode": {
    "name": "ipython",
    "version": 3
   },
   "file_extension": ".py",
   "mimetype": "text/x-python",
   "name": "python",
   "nbconvert_exporter": "python",
   "pygments_lexer": "ipython3",
   "version": "3.9.7"
  }
 },
 "nbformat": 4,
 "nbformat_minor": 4
}
