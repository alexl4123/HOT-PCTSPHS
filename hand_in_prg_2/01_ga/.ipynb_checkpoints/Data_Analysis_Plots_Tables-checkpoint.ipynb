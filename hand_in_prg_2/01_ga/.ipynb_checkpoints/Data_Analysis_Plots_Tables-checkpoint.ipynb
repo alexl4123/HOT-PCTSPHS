{
 "cells": [
  {
   "cell_type": "code",
   "execution_count": 1,
   "id": "c45e9ac3",
   "metadata": {},
   "outputs": [],
   "source": [
    "import pandas as pd\n",
    "import re"
   ]
  },
  {
   "cell_type": "code",
   "execution_count": 16,
   "id": "a0584e43",
   "metadata": {},
   "outputs": [],
   "source": [
    "import os\n",
    "import glob\n",
    "import pandas as pd\n",
    "import matplotlib.pyplot as plt\n",
    "import matplotlib.patches as mpatches\n",
    "\n",
    "from os import listdir, walk\n",
    "from os.path import isfile, join\n",
    "from pandas.plotting import parallel_coordinates\n",
    "from tabulate import tabulate, SEPARATING_LINE\n",
    "\n",
    "\n",
    "import matplotlib.pyplot as plt\n",
    "import math\n"
   ]
  },
  {
   "cell_type": "markdown",
   "id": "56df7bb6",
   "metadata": {},
   "source": []
  },
  {
   "cell_type": "markdown",
   "id": "f9c273fe",
   "metadata": {},
   "source": [
    "# Generate construction heuristics tables"
   ]
  },
  {
   "cell_type": "code",
   "execution_count": 36,
   "id": "5c7edd7a",
   "metadata": {},
   "outputs": [],
   "source": [
    "df = pd.read_csv('analysis_fixed.csv')"
   ]
  },
  {
   "cell_type": "code",
   "execution_count": 37,
   "id": "12480a4e",
   "metadata": {},
   "outputs": [
    {
     "data": {
      "text/plain": [
       "Index(['Instance_Name', 'Number_Of_Customers', 'Number_Of_Hotels',\n",
       "       'Objective_Value', 'Sum_of_Trips', 'Penalties', 'Hotel_Fees',\n",
       "       'Max_Trip_Length', 'Number_Of_Trips', 'Prize', 'Time', 'Trace'],\n",
       "      dtype='object')"
      ]
     },
     "execution_count": 37,
     "metadata": {},
     "output_type": "execute_result"
    }
   ],
   "source": [
    "df.columns"
   ]
  },
  {
   "cell_type": "code",
   "execution_count": 38,
   "id": "78fadd59",
   "metadata": {},
   "outputs": [
    {
     "data": {
      "text/html": [
       "<div>\n",
       "<style scoped>\n",
       "    .dataframe tbody tr th:only-of-type {\n",
       "        vertical-align: middle;\n",
       "    }\n",
       "\n",
       "    .dataframe tbody tr th {\n",
       "        vertical-align: top;\n",
       "    }\n",
       "\n",
       "    .dataframe thead th {\n",
       "        text-align: right;\n",
       "    }\n",
       "</style>\n",
       "<table border=\"1\" class=\"dataframe\">\n",
       "  <thead>\n",
       "    <tr style=\"text-align: right;\">\n",
       "      <th></th>\n",
       "      <th>Instance_Name</th>\n",
       "      <th>Number_Of_Customers</th>\n",
       "      <th>Number_Of_Hotels</th>\n",
       "      <th>Objective_Value</th>\n",
       "      <th>Sum_of_Trips</th>\n",
       "      <th>Penalties</th>\n",
       "      <th>Hotel_Fees</th>\n",
       "      <th>Max_Trip_Length</th>\n",
       "      <th>Number_Of_Trips</th>\n",
       "      <th>Prize</th>\n",
       "      <th>Time</th>\n",
       "      <th>Trace</th>\n",
       "    </tr>\n",
       "  </thead>\n",
       "  <tbody>\n",
       "    <tr>\n",
       "      <th>0</th>\n",
       "      <td>eil51_1</td>\n",
       "      <td>50</td>\n",
       "      <td>1</td>\n",
       "      <td>411</td>\n",
       "      <td>334</td>\n",
       "      <td>77</td>\n",
       "      <td>0</td>\n",
       "      <td>334</td>\n",
       "      <td>1</td>\n",
       "      <td>700</td>\n",
       "      <td>17.091059</td>\n",
       "      <td>[4539716582.662857; 5166323759.211429; 5166323...</td>\n",
       "    </tr>\n",
       "    <tr>\n",
       "      <th>1</th>\n",
       "      <td>eil51_1</td>\n",
       "      <td>50</td>\n",
       "      <td>1</td>\n",
       "      <td>100423</td>\n",
       "      <td>364</td>\n",
       "      <td>59</td>\n",
       "      <td>100000</td>\n",
       "      <td>199</td>\n",
       "      <td>2</td>\n",
       "      <td>718</td>\n",
       "      <td>14.441229</td>\n",
       "      <td>[199015092727.28397; 199074455775.07062; 19917...</td>\n",
       "    </tr>\n",
       "    <tr>\n",
       "      <th>2</th>\n",
       "      <td>berlin52_1</td>\n",
       "      <td>51</td>\n",
       "      <td>10</td>\n",
       "      <td>8022</td>\n",
       "      <td>8022</td>\n",
       "      <td>0</td>\n",
       "      <td>0</td>\n",
       "      <td>8022</td>\n",
       "      <td>1</td>\n",
       "      <td>5100</td>\n",
       "      <td>27.944792</td>\n",
       "      <td>[275831928189.6079; 278345599115.8764; 2905795...</td>\n",
       "    </tr>\n",
       "    <tr>\n",
       "      <th>3</th>\n",
       "      <td>berlin52_1</td>\n",
       "      <td>51</td>\n",
       "      <td>10</td>\n",
       "      <td>908864</td>\n",
       "      <td>8864</td>\n",
       "      <td>0</td>\n",
       "      <td>900000</td>\n",
       "      <td>1110</td>\n",
       "      <td>10</td>\n",
       "      <td>5100</td>\n",
       "      <td>15.455588</td>\n",
       "      <td>[280465710293.7861; 298294835240.0966; 3160407...</td>\n",
       "    </tr>\n",
       "    <tr>\n",
       "      <th>4</th>\n",
       "      <td>berlin52_1</td>\n",
       "      <td>51</td>\n",
       "      <td>10</td>\n",
       "      <td>1009317</td>\n",
       "      <td>9317</td>\n",
       "      <td>0</td>\n",
       "      <td>1000000</td>\n",
       "      <td>1084</td>\n",
       "      <td>11</td>\n",
       "      <td>5100</td>\n",
       "      <td>27.572247</td>\n",
       "      <td>[281148423111.3191; 314481883314.35144; 347720...</td>\n",
       "    </tr>\n",
       "    <tr>\n",
       "      <th>5</th>\n",
       "      <td>berlin52_1</td>\n",
       "      <td>51</td>\n",
       "      <td>10</td>\n",
       "      <td>1009396</td>\n",
       "      <td>9396</td>\n",
       "      <td>0</td>\n",
       "      <td>1000000</td>\n",
       "      <td>1146</td>\n",
       "      <td>11</td>\n",
       "      <td>5100</td>\n",
       "      <td>26.604681</td>\n",
       "      <td>[279506709416.88666; 312815050354.09595; 34604...</td>\n",
       "    </tr>\n",
       "  </tbody>\n",
       "</table>\n",
       "</div>"
      ],
      "text/plain": [
       "  Instance_Name  Number_Of_Customers  Number_Of_Hotels  Objective_Value  \\\n",
       "0       eil51_1                   50                 1              411   \n",
       "1       eil51_1                   50                 1           100423   \n",
       "2    berlin52_1                   51                10             8022   \n",
       "3    berlin52_1                   51                10           908864   \n",
       "4    berlin52_1                   51                10          1009317   \n",
       "5    berlin52_1                   51                10          1009396   \n",
       "\n",
       "   Sum_of_Trips  Penalties  Hotel_Fees  Max_Trip_Length  Number_Of_Trips  \\\n",
       "0           334         77           0              334                1   \n",
       "1           364         59      100000              199                2   \n",
       "2          8022          0           0             8022                1   \n",
       "3          8864          0      900000             1110               10   \n",
       "4          9317          0     1000000             1084               11   \n",
       "5          9396          0     1000000             1146               11   \n",
       "\n",
       "   Prize       Time                                              Trace  \n",
       "0    700  17.091059  [4539716582.662857; 5166323759.211429; 5166323...  \n",
       "1    718  14.441229  [199015092727.28397; 199074455775.07062; 19917...  \n",
       "2   5100  27.944792  [275831928189.6079; 278345599115.8764; 2905795...  \n",
       "3   5100  15.455588  [280465710293.7861; 298294835240.0966; 3160407...  \n",
       "4   5100  27.572247  [281148423111.3191; 314481883314.35144; 347720...  \n",
       "5   5100  26.604681  [279506709416.88666; 312815050354.09595; 34604...  "
      ]
     },
     "execution_count": 38,
     "metadata": {},
     "output_type": "execute_result"
    }
   ],
   "source": [
    "df"
   ]
  },
  {
   "cell_type": "code",
   "execution_count": 6,
   "id": "1eacde0c",
   "metadata": {},
   "outputs": [],
   "source": [
    "table_0 = df[['Instance_Name','Objective_Value','Sum_of_Trips','Penalties','Hotel_Fees','Max_Trip_Length','Number_Of_Trips','Prize']]\n",
    "#table_1 = df[['Instance_Name','Time','Percentate-of-collected-prizes','procedure-type','alpha','beta','gamma','delta']]"
   ]
  },
  {
   "cell_type": "code",
   "execution_count": 7,
   "id": "3e9fd2cb",
   "metadata": {},
   "outputs": [
    {
     "name": "stdout",
     "output_type": "stream",
     "text": [
      "\\begin{tabular}{rlrrrrrrr}\n",
      "\\hline\n",
      "    & Instance\\_Name   &   Objective\\_Value &   Sum\\_of\\_Trips &   Penalties &   Hotel\\_Fees &   Max\\_Trip\\_Length &   Number\\_Of\\_Trips &   Prize \\\\\n",
      "\\hline\n",
      "  0 & rand\\_21         &              4780 &           2474 &         865 &         1441 &               315 &                 8 &   11326 \\\\\n",
      "  1 & rand\\_21         &              4748 &           2503 &         804 &         1441 &               320 &                 8 &   11546 \\\\\n",
      "  2 & rand\\_21         &              4715 &           2418 &         856 &         1441 &               310 &                 8 &   11334 \\\\\n",
      "  3 & rand\\_21         &              4746 &           2498 &         807 &         1441 &               319 &                 8 &   11345 \\\\\n",
      "  4 & rand\\_21         &              4730 &           2433 &         856 &         1441 &               310 &                 8 &   11334 \\\\\n",
      "  5 & rand\\_21         &              4701 &           2404 &         856 &         1441 &               310 &                 8 &   11334 \\\\\n",
      "  6 & rand\\_21         &              4785 &           2488 &         856 &         1441 &               315 &                 8 &   11334 \\\\\n",
      "  7 & rand\\_21         &              4785 &           2488 &         856 &         1441 &               315 &                 8 &   11334 \\\\\n",
      "  8 & rand\\_21         &              4785 &           2488 &         856 &         1441 &               315 &                 8 &   11334 \\\\\n",
      "  9 & rand\\_21         &              4785 &           2488 &         856 &         1441 &               315 &                 8 &   11334 \\\\\n",
      " 10 & rand\\_21         &              4774 &           2472 &         861 &         1441 &               315 &                 8 &   11319 \\\\\n",
      " 11 & rand\\_21         &              4743 &           2492 &         810 &         1441 &               316 &                 8 &   11458 \\\\\n",
      " 12 & rand\\_21         &              4715 &           2418 &         856 &         1441 &               310 &                 8 &   11334 \\\\\n",
      " 13 & rand\\_21         &              4741 &           2496 &         804 &         1441 &               317 &                 8 &   11329 \\\\\n",
      " 14 & rand\\_21         &              4727 &           2430 &         856 &         1441 &               310 &                 8 &   11334 \\\\\n",
      " 15 & rand\\_21         &              4699 &           2402 &         856 &         1441 &               310 &                 8 &   11334 \\\\\n",
      " 16 & rand\\_21         &              4785 &           2488 &         856 &         1441 &               315 &                 8 &   11334 \\\\\n",
      " 17 & rand\\_21         &              4785 &           2488 &         856 &         1441 &               315 &                 8 &   11334 \\\\\n",
      " 18 & rand\\_21         &              4785 &           2488 &         856 &         1441 &               315 &                 8 &   11334 \\\\\n",
      " 19 & rand\\_21         &              4785 &           2488 &         856 &         1441 &               315 &                 8 &   11334 \\\\\n",
      " 20 & rand\\_21         &              4780 &           2474 &         865 &         1441 &               315 &                 8 &   11326 \\\\\n",
      " 21 & rand\\_21         &              4783 &           2494 &         848 &         1441 &               315 &                 8 &   11384 \\\\\n",
      " 22 & rand\\_21         &              4772 &           2475 &         856 &         1441 &               314 &                 8 &   11334 \\\\\n",
      " 23 & rand\\_21         &              4785 &           2488 &         856 &         1441 &               315 &                 8 &   11334 \\\\\n",
      " 24 & rand\\_21         &              4777 &           2480 &         856 &         1441 &               315 &                 8 &   11334 \\\\\n",
      " 25 & rand\\_21         &              4773 &           2476 &         856 &         1441 &               315 &                 8 &   11334 \\\\\n",
      " 26 & rand\\_21         &              4785 &           2488 &         856 &         1441 &               315 &                 8 &   11334 \\\\\n",
      " 27 & rand\\_21         &              4785 &           2488 &         856 &         1441 &               315 &                 8 &   11334 \\\\\n",
      " 28 & rand\\_21         &              4785 &           2488 &         856 &         1441 &               315 &                 8 &   11334 \\\\\n",
      " 29 & rand\\_21         &              4785 &           2488 &         856 &         1441 &               315 &                 8 &   11334 \\\\\n",
      "\\hline\n",
      "\\end{tabular}\n"
     ]
    }
   ],
   "source": [
    "print(tabulate(table_0, headers=table_0.columns, tablefmt='latex'))"
   ]
  },
  {
   "cell_type": "code",
   "execution_count": 27,
   "id": "add1c020",
   "metadata": {},
   "outputs": [
    {
     "name": "stdout",
     "output_type": "stream",
     "text": [
      "\\begin{tabular}{rlrrlrrrr}\n",
      "\\hline\n",
      "    & Instance\\_Name   &        Time &   Percentate-of-collected-prizes & procedure-type                   &   alpha &   beta &   gamma &   delta \\\\\n",
      "\\hline\n",
      "  0 & test            &   0.0017345 &                         1        & backtracking                     &       1 &   0.2  &    0.2  &     0.2 \\\\\n",
      "  1 & rc101\\_1         &   0.0307431 &                         1        & insertion-heuristic-sum-of-trips &       1 &   0    &    0    &     0   \\\\\n",
      "  2 & pr8\\_1           &   0.426633  &                         1        & pure-greedy                      &       1 &   0    &    0    &     0   \\\\\n",
      "  3 & eil51\\_1         &   1.16948   &                         0.769627 & pure-greedy                      &       2 &  -0.25 &    0.05 &     0.5 \\\\\n",
      "  4 & berlin51\\_1      &   4.58605   &                         1        & pure-greedy                      &       1 &   0    &    0    &     0   \\\\\n",
      "  5 & berlin52\\_2      &   3.28675   &                         0.797297 & pure-greedy                      &       1 &   0    &    0    &     0   \\\\\n",
      "  6 & berlin52\\_3      &   4.22309   &                         0.505068 & pure-greedy                      &       1 &   0    &    0    &     0   \\\\\n",
      "  7 & rc101\\_2         &  16.4769    &                         1        & backtracking                     &       1 &  -0.5  &   -0.5  &     0.5 \\\\\n",
      "  8 & rc101\\_3         &  11.8482    &                         0.761544 & backtracking                     &       1 &  -0.4  &   -0.1  &     1   \\\\\n",
      "  9 & pr8\\_2           &  38.4728    &                         1        & insertion-diverse-hotels         &       1 &   0    &    0    &     0   \\\\\n",
      " 10 & gil250\\_1        & 130.302     &                         0.752024 & backtracking                     &       1 &  -0.4  &   -0.1  &     1   \\\\\n",
      " 11 & gil262\\_1        & 189.11      &                         0.755906 & backtracking                     &       1 &   0    &    0    &     0.5 \\\\\n",
      " 12 & a280\\_1          & 250.723     &                         1        & backtracking                     &       1 &  -0.5  &   -0.5  &     0.5 \\\\\n",
      "\\hline\n",
      "\\end{tabular}\n"
     ]
    }
   ],
   "source": [
    "print(tabulate(table_1, headers = table_1.columns, tablefmt='latex'))"
   ]
  },
  {
   "cell_type": "code",
   "execution_count": 7,
   "id": "e9977e36",
   "metadata": {},
   "outputs": [],
   "source": [
    "def generate_local_search_df(data):\n",
    "    bests = []\n",
    "    neighborhoods = []\n",
    "    step_functions = []\n",
    "    times = []\n",
    "    max_trip_lengths = []\n",
    "    number_of_trips = []\n",
    "    prizes = []\n",
    "    traces = []\n",
    "\n",
    "\n",
    "    for instance in instances:\n",
    "        val = data['Instance_Name'] == instance\n",
    " \n",
    "        df_instance = data[val]\n",
    "\n",
    "        v = df_instance['Objective_Value']\n",
    "        t = df_instance['Time']\n",
    "\n",
    "        best_rows_bools = df_instance['Objective_Value'] == min(v)\n",
    "\n",
    "        best_rows = df_instance[best_rows_bools]\n",
    "        n_rows, n_cols = best_rows.shape\n",
    "\n",
    "        index = 0\n",
    "        if n_rows > 1:\n",
    "            index = random.randint(0,n_rows-1)\n",
    "\n",
    "        best_row = best_rows.iloc[index,:]\n",
    "        #print(n_rows)\n",
    "        #print(best_row)\n",
    "\n",
    "\n",
    "        traces.append(best_row['Trace'])\n",
    "        \n",
    "    df_2 = pd.DataFrame()\n",
    "    \n",
    "    df_3 = pd.DataFrame()   \n",
    "    df_3['Trace'] = traces\n",
    "    \n",
    "    return (df_2, df_3)\n",
    "    "
   ]
  },
  {
   "cell_type": "code",
   "execution_count": 9,
   "id": "e2474dcc",
   "metadata": {},
   "outputs": [
    {
     "data": {
      "text/html": [
       "<div>\n",
       "<style scoped>\n",
       "    .dataframe tbody tr th:only-of-type {\n",
       "        vertical-align: middle;\n",
       "    }\n",
       "\n",
       "    .dataframe tbody tr th {\n",
       "        vertical-align: top;\n",
       "    }\n",
       "\n",
       "    .dataframe thead th {\n",
       "        text-align: right;\n",
       "    }\n",
       "</style>\n",
       "<table border=\"1\" class=\"dataframe\">\n",
       "  <thead>\n",
       "    <tr style=\"text-align: right;\">\n",
       "      <th></th>\n",
       "      <th>Instance_Name</th>\n",
       "      <th>Number_Of_Customers</th>\n",
       "      <th>Number_Of_Hotels</th>\n",
       "      <th>Objective_Value</th>\n",
       "      <th>Sum_of_Trips</th>\n",
       "      <th>Penalties</th>\n",
       "      <th>Hotel_Fees</th>\n",
       "      <th>Max_Trip_Length</th>\n",
       "      <th>Number_Of_Trips</th>\n",
       "      <th>Prize</th>\n",
       "      <th>Time</th>\n",
       "      <th>Trace</th>\n",
       "    </tr>\n",
       "  </thead>\n",
       "  <tbody>\n",
       "    <tr>\n",
       "      <th>0</th>\n",
       "      <td>eil51_1</td>\n",
       "      <td>50</td>\n",
       "      <td>1</td>\n",
       "      <td>411</td>\n",
       "      <td>334</td>\n",
       "      <td>77</td>\n",
       "      <td>0</td>\n",
       "      <td>334</td>\n",
       "      <td>1</td>\n",
       "      <td>700</td>\n",
       "      <td>17.091059</td>\n",
       "      <td>[4539716582.662857; 5166323759.211429; 5166323...</td>\n",
       "    </tr>\n",
       "  </tbody>\n",
       "</table>\n",
       "</div>"
      ],
      "text/plain": [
       "  Instance_Name  Number_Of_Customers  Number_Of_Hotels  Objective_Value  \\\n",
       "0       eil51_1                   50                 1              411   \n",
       "\n",
       "   Sum_of_Trips  Penalties  Hotel_Fees  Max_Trip_Length  Number_Of_Trips  \\\n",
       "0           334         77           0              334                1   \n",
       "\n",
       "   Prize       Time                                              Trace  \n",
       "0    700  17.091059  [4539716582.662857; 5166323759.211429; 5166323...  "
      ]
     },
     "execution_count": 9,
     "metadata": {},
     "output_type": "execute_result"
    }
   ],
   "source": [
    "df"
   ]
  },
  {
   "cell_type": "code",
   "execution_count": 33,
   "id": "87b571c5",
   "metadata": {},
   "outputs": [
    {
     "data": {
      "text/plain": [
       "Instance_Name                                                 berlin52_1\n",
       "Number_Of_Customers                                                   51\n",
       "Number_Of_Hotels                                                      10\n",
       "Objective_Value                                                   908864\n",
       "Sum_of_Trips                                                        8864\n",
       "Penalties                                                              0\n",
       "Hotel_Fees                                                        900000\n",
       "Max_Trip_Length                                                     1110\n",
       "Number_Of_Trips                                                       10\n",
       "Prize                                                               5100\n",
       "Time                                                           15.455588\n",
       "Trace                  [280465710293.7861; 298294835240.0966; 3160407...\n",
       "Name: 3, dtype: object"
      ]
     },
     "execution_count": 33,
     "metadata": {},
     "output_type": "execute_result"
    }
   ],
   "source": [
    "df.iloc[3]"
   ]
  },
  {
   "cell_type": "code",
   "execution_count": 39,
   "id": "a4ffc297",
   "metadata": {},
   "outputs": [],
   "source": [
    "\n",
    "fitness_str = (df.iloc[5])[\"Trace\"][1:len(list((df.iloc[5])[\"Trace\"])) - 1]\n",
    "fitness_list = list(map(float, fitness_str.split(';')))\n",
    "fitness_list.sort()\n",
    "\n",
    "fitness_list_log = []\n",
    "for val in fitness_list:\n",
    "    fitness_list_log.append(math.log(val))\n",
    "    \n",
    "fitness_list_base = []\n",
    "min_val = min(fitness_list)\n",
    "for val in fitness_list:\n",
    "    fitness_list_base.append(val - min_val + 1)\n",
    "\n",
    "    \n",
    "fitness_list_log_2 = []\n",
    "for val in fitness_list_base:\n",
    "    fitness_list_log_2.append(math.log(val))\n",
    "    "
   ]
  },
  {
   "cell_type": "code",
   "execution_count": 42,
   "id": "31fea674",
   "metadata": {},
   "outputs": [
    {
     "data": {
      "text/plain": [
       "Text(0, 0.5, 'log(fitness)')"
      ]
     },
     "execution_count": 42,
     "metadata": {},
     "output_type": "execute_result"
    },
    {
     "data": {
      "image/png": "[encoded data removed]",
      "text/plain": [
       "<Figure size 432x288 with 1 Axes>"
      ]
     },
     "metadata": {
      "needs_background": "light"
     },
     "output_type": "display_data"
    }
   ],
   "source": [
    "plt.plot(range(len(fitness_list)), fitness_list_log)\n",
    "plt.xlabel(\"iteration\")\n",
    "plt.ylabel(\"ln(fitness)\")"
   ]
  },
  {
   "cell_type": "code",
   "execution_count": null,
   "id": "e59eec0b",
   "metadata": {},
   "outputs": [],
   "source": []
  }
 ],
 "metadata": {
  "kernelspec": {
   "display_name": "Python 3 (ipykernel)",
   "language": "python",
   "name": "python3"
  },
  "language_info": {
   "codemirror_mode": {
    "name": "ipython",
    "version": 3
   },
   "file_extension": ".py",
   "mimetype": "text/x-python",
   "name": "python",
   "nbconvert_exporter": "python",
   "pygments_lexer": "ipython3",
   "version": "3.9.7"
  }
 },
 "nbformat": 4,
 "nbformat_minor": 5
}
